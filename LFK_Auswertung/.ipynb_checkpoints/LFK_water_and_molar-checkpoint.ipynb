{
 "cells": [
  {
   "cell_type": "code",
   "execution_count": 9,
   "id": "differential-shooting",
   "metadata": {},
   "outputs": [],
   "source": [
    "import numpy as np\n",
    "\n",
    "import pandas as pd"
   ]
  },
  {
   "cell_type": "code",
   "execution_count": 4,
   "id": "automotive-begin",
   "metadata": {},
   "outputs": [],
   "source": [
    "from metas_unclib import *"
   ]
  },
  {
   "cell_type": "code",
   "execution_count": 6,
   "id": "exceptional-registrar",
   "metadata": {},
   "outputs": [
    {
     "data": {
      "text/plain": [
       "283.03333333333336 ± 7.2867724653006665"
      ]
     },
     "execution_count": 6,
     "metadata": {},
     "output_type": "execute_result"
    }
   ],
   "source": [
    "water_tap = ufloatfromsamples(\n",
    "    (289.5, 281.1, 278.5),\n",
    "    desc=\"water tap\"\n",
    ")\n",
    "water_tap"
   ]
  },
  {
   "cell_type": "code",
   "execution_count": 7,
   "id": "ecological-assets",
   "metadata": {},
   "outputs": [
    {
     "data": {
      "text/plain": [
       "2.8466666666666662 ± 0.0637931056763051"
      ]
     },
     "execution_count": 7,
     "metadata": {},
     "output_type": "execute_result"
    }
   ],
   "source": [
    "water_dei= ufloatfromsamples(\n",
    "    (2.84, 2.9, 2.8),\n",
    "    desc=\"water deionized\"\n",
    ")\n",
    "water_dei"
   ]
  },
  {
   "cell_type": "code",
   "execution_count": 8,
   "id": "prospective-brief",
   "metadata": {},
   "outputs": [
    {
     "data": {
      "text/plain": [
       "1.0566666666666666 ± 0.15847230355837524"
      ]
     },
     "execution_count": 8,
     "metadata": {},
     "output_type": "execute_result"
    }
   ],
   "source": [
    "water_pure = ufloatfromsamples(\n",
    "    (1, 1.2, 0.97),\n",
    "    desc=\"water purified, degased\"\n",
    ")\n",
    "water_pure"
   ]
  },
  {
   "cell_type": "code",
   "execution_count": 14,
   "id": "narrow-mortgage",
   "metadata": {},
   "outputs": [
    {
     "name": "stdout",
     "output_type": "stream",
     "text": [
      "\\begin{tabular}{lrr}\n",
      "\\toprule\n",
      "{} &  0 &  1 \\\\\n",
      "\\midrule\n",
      "0 &  1 &  2 \\\\\n",
      "1 &  3 &  4 \\\\\n",
      "\\bottomrule\n",
      "\\end{tabular}\n",
      "\n"
     ]
    }
   ],
   "source": [
    "print(pd.DataFrame(np.array(((1,2),(3,4)))).to_latex())"
   ]
  },
  {
   "cell_type": "markdown",
   "id": "interim-glance",
   "metadata": {},
   "source": [
    "### Molar"
   ]
  },
  {
   "cell_type": "markdown",
   "id": "divided-public",
   "metadata": {},
   "source": [
    "#### K2CO3"
   ]
  },
  {
   "cell_type": "code",
   "execution_count": 20,
   "id": "institutional-independence",
   "metadata": {},
   "outputs": [
    {
     "data": {
      "text/plain": [
       "0.010053905430338989 ± 7.235628233421367e-07"
      ]
     },
     "execution_count": 20,
     "metadata": {},
     "output_type": "execute_result"
    }
   ],
   "source": [
    "kalium_M = ufloat(138.205, desc=\"molar mass potassium carbonate\")  # g / mol\n",
    "kalium_m = ufloat(1.3895, 0.0001, desc=\"mass potassium carbonate\")\n",
    "kalium_c = kalium_m / kalium_M / 0.1 / 10\n",
    "kalium_c"
   ]
  },
  {
   "cell_type": "code",
   "execution_count": 24,
   "id": "surprising-rough",
   "metadata": {},
   "outputs": [
    {
     "data": {
      "text/plain": [
       "216.86431690056378 ± 1.8966262009802657"
      ]
     },
     "execution_count": 24,
     "metadata": {},
     "output_type": "execute_result"
    }
   ],
   "source": [
    "kalium_lambda = ufloatfromsamples(\n",
    "    (2.163, 2.190, 2.188),\n",
    "    desc=\"molar conductivity K2CO3\"\n",
    ") / kalium_c\n",
    "kalium_lambda  # S cm2 / mol"
   ]
  },
  {
   "cell_type": "markdown",
   "id": "massive-virgin",
   "metadata": {},
   "source": [
    "#### Na2CO3"
   ]
  },
  {
   "cell_type": "code",
   "execution_count": 25,
   "id": "broke-excerpt",
   "metadata": {},
   "outputs": [
    {
     "data": {
      "text/plain": [
       "0.01310972733276724 ± 9.434852344560808e-07"
      ]
     },
     "execution_count": 25,
     "metadata": {},
     "output_type": "execute_result"
    }
   ],
   "source": [
    "natrium_M = ufloat(105.99, desc=\"molar mass sodium carbonate\")  # g / mol\n",
    "natrium_m = ufloat(1.3895, 0.0001, desc=\"mass sodium carbonate\")\n",
    "natrium_c = natrium_m / natrium_M / 0.1 / 10\n",
    "natrium_c"
   ]
  },
  {
   "cell_type": "code",
   "execution_count": 26,
   "id": "mathematical-window",
   "metadata": {},
   "outputs": [
    {
     "data": {
      "text/plain": [
       "131.073155811443 ± 0.2792487421399839"
      ]
     },
     "execution_count": 26,
     "metadata": {},
     "output_type": "execute_result"
    }
   ],
   "source": [
    "natrium_lambda = ufloatfromsamples(\n",
    "    (1.715, 1.720, 1.720),\n",
    "    desc=\"molar conductivity Na2CO3\"\n",
    ") / natrium_c\n",
    "natrium_lambda  # S cm2 / mol"
   ]
  },
  {
   "cell_type": "markdown",
   "id": "wanted-uncle",
   "metadata": {},
   "source": [
    "### Exercises from the book"
   ]
  },
  {
   "cell_type": "markdown",
   "id": "included-vessel",
   "metadata": {},
   "source": [
    "$$v_i = \\frac{e E}{6 \\pi \\eta} \\frac{z_i}{r_i}$$"
   ]
  },
  {
   "cell_type": "markdown",
   "id": "broken-honor",
   "metadata": {},
   "source": [
    "#### Ex 1"
   ]
  },
  {
   "cell_type": "code",
   "execution_count": 28,
   "id": "secondary-citation",
   "metadata": {},
   "outputs": [],
   "source": [
    "from math import pi"
   ]
  },
  {
   "cell_type": "code",
   "execution_count": 33,
   "id": "extra-tablet",
   "metadata": {},
   "outputs": [],
   "source": [
    "e = 1.602176e-19  # C\n",
    "E = 100  # V / m\n",
    "eta = 1e-3  # Pa s\n",
    "r = 1e-9  # m\n",
    "\n",
    "z_mg = 2\n",
    "z_essig = 1"
   ]
  },
  {
   "cell_type": "code",
   "execution_count": 34,
   "id": "proved-mason",
   "metadata": {},
   "outputs": [
    {
     "data": {
      "text/plain": [
       "1.6999615340213366e-06"
      ]
     },
     "execution_count": 34,
     "metadata": {},
     "output_type": "execute_result"
    }
   ],
   "source": [
    "e * E / (6 * pi * eta) * z_mg / r  # m/s"
   ]
  },
  {
   "cell_type": "code",
   "execution_count": 35,
   "id": "apart-experiment",
   "metadata": {},
   "outputs": [
    {
     "data": {
      "text/plain": [
       "8.499807670106683e-07"
      ]
     },
     "execution_count": 35,
     "metadata": {},
     "output_type": "execute_result"
    }
   ],
   "source": [
    "e * E / (6 * pi * eta) * z_essig / r  # m/s"
   ]
  }
 ],
 "metadata": {
  "kernelspec": {
   "display_name": "Python 3",
   "language": "python",
   "name": "python3"
  },
  "language_info": {
   "codemirror_mode": {
    "name": "ipython",
    "version": 3
   },
   "file_extension": ".py",
   "mimetype": "text/x-python",
   "name": "python",
   "nbconvert_exporter": "python",
   "pygments_lexer": "ipython3",
   "version": "3.7.9"
  }
 },
 "nbformat": 4,
 "nbformat_minor": 5
}
