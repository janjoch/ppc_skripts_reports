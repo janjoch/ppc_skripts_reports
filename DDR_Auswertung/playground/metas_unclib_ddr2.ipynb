{
 "cells": [
  {
   "cell_type": "code",
   "execution_count": 1,
   "metadata": {},
   "outputs": [],
   "source": [
    "from IPython.display import display, Math"
   ]
  },
  {
   "cell_type": "code",
   "execution_count": 2,
   "metadata": {},
   "outputs": [],
   "source": [
    "import math"
   ]
  },
  {
   "cell_type": "code",
   "execution_count": 3,
   "metadata": {
    "scrolled": true
   },
   "outputs": [
    {
     "name": "stderr",
     "output_type": "stream",
     "text": [
      "/Users/Janjo/opt/anaconda3/lib/python3.8/site-packages/pandas/core/computation/expressions.py:20: UserWarning: Pandas requires version '2.7.3' or newer of 'numexpr' (version '2.7.1' currently installed).\n",
      "  from pandas.core.computation.check import NUMEXPR_INSTALLED\n"
     ]
    }
   ],
   "source": [
    "import pandas as pd"
   ]
  },
  {
   "cell_type": "code",
   "execution_count": 4,
   "metadata": {},
   "outputs": [],
   "source": [
    "# METAS UncLib\n",
    "from metas_unclib import *  # import METAS UncLib\n",
    "use_linprop()               # linear unc propagation"
   ]
  },
  {
   "cell_type": "code",
   "execution_count": 5,
   "metadata": {},
   "outputs": [],
   "source": [
    "from Metas.UncLib.LinProp import UncBudget as _LinPropUncBudget"
   ]
  },
  {
   "cell_type": "code",
   "execution_count": 6,
   "metadata": {},
   "outputs": [],
   "source": [
    "# unc_budget bug fix\n",
    "\n",
    "def unc_budget(unc_item):\n",
    "    tree = _LinPropUncBudget.ComputeTreeUncBudget(unc_item.net_object)\n",
    "\n",
    "    data = np.zeros((len(tree) + 1, 2))\n",
    "    desc = [\"\"]*(len(tree) + 1)\n",
    "\n",
    "    desc[0] = \"SUMMARY\"\n",
    "    data[0] = (\n",
    "        unc_item.stdunc,\n",
    "        100.,        \n",
    "    )\n",
    "\n",
    "    for i, elem in enumerate(tree):\n",
    "        data[i + 1] = (\n",
    "            elem.get_UncComponent(),\n",
    "            elem.get_UncPercentage(),\n",
    "        )\n",
    "        desc[i + 1] = elem.get_Description()\n",
    "    \n",
    "    try:\n",
    "        # render pandas.DataFrame\n",
    "        import pandas as pd\n",
    "        return pd.DataFrame(columns=(\"description\", \"unc component\", \"unc / %\"), data={\n",
    "            \"description\": desc,\n",
    "            \"unc component\": data[:,0],\n",
    "            \"unc / %\": data[:,1],\n",
    "        }).sort_values(\"unc / %\", ascending=False)\n",
    "        \n",
    "    # fallback if pandas not installed\n",
    "    except ModuleNotFoundError:\n",
    "        print(\"unc component | unc / %    | label\")\n",
    "        print(\"--------------|------------|--------------\")\n",
    "        for label, (component, percent) in zip(desc, data):\n",
    "            print(\"{:.4E}    | {:.4E} | {}\".format(component, percent, label))\n",
    "    return data, desc"
   ]
  },
  {
   "cell_type": "markdown",
   "metadata": {},
   "source": [
    "### Formelübersicht"
   ]
  },
  {
   "cell_type": "markdown",
   "metadata": {},
   "source": [
    "$$\\Delta_VH_{\\text{subst}} = \\Delta_VH_{\\text{ref}} {\\rho_{\\text{ref}} \\over \\rho_{\\text{subst}}} {M_{\\text{subst}} \\over M_{\\text{ref}}} {A_{\\text{subst}} \\over A_{\\text{ref}}}$$"
   ]
  },
  {
   "cell_type": "markdown",
   "metadata": {},
   "source": [
    "$$\\int \\Delta T dt = A \\propto Q = n \\Delta_VH$$"
   ]
  },
  {
   "cell_type": "markdown",
   "metadata": {},
   "source": [
    "$Q$: Verdunstungswärme\n",
    "\n",
    "$n$: Stoffmenge\n",
    "\n",
    "$M$: Molmasse\n",
    "\n",
    "$\\rho$: spezifische Dichte\n",
    "\n",
    "$\\Delta_VH$: molare Verdampfungsenthalpie\n",
    "\n",
    "$A$: Peak-Fläche"
   ]
  },
  {
   "cell_type": "markdown",
   "metadata": {},
   "source": [
    "### Funktionen"
   ]
  },
  {
   "cell_type": "code",
   "execution_count": 7,
   "metadata": {},
   "outputs": [],
   "source": [
    "def calc_h(H_ref, rho_ref, rho_subst, M_ref, M_subst, A_ref, A_subst):\n",
    "    return (\n",
    "        H_ref * (rho_ref / rho_subst)\n",
    "        * (M_subst / M_ref)\n",
    "        * (A_subst / A_ref)\n",
    "    )"
   ]
  },
  {
   "cell_type": "code",
   "execution_count": 8,
   "metadata": {},
   "outputs": [],
   "source": [
    "def get_areas(path):\n",
    "    return list(pd.read_csv(path, sep=\" \").iloc[0])"
   ]
  },
  {
   "cell_type": "markdown",
   "metadata": {},
   "source": [
    "### Measured values and constants"
   ]
  },
  {
   "cell_type": "code",
   "execution_count": 9,
   "metadata": {},
   "outputs": [],
   "source": [
    "# rho values literature [kg/dm3]\n",
    "\n",
    "rho_lit_m = ufloat(0.7914, desc=\"rho methanol (literature)\")\n",
    "rho_lit_a = ufloat(0.7899, desc=\"rho acetone (literature)\")\n",
    "rho_lit_n = ufloat(0.6603, desc=\"rho n-hexane (n-hexane)\")"
   ]
  },
  {
   "cell_type": "code",
   "execution_count": 10,
   "metadata": {},
   "outputs": [],
   "source": [
    "# uncertainties of devices\n",
    "u_m = 0.002  # [g]\n",
    "u_V = 0.08  # [mL]"
   ]
  },
  {
   "cell_type": "code",
   "execution_count": 11,
   "metadata": {},
   "outputs": [
    {
     "data": {
      "text/plain": [
       "0.7904000000000001 ± 0.0025305448659132686"
      ]
     },
     "execution_count": 11,
     "metadata": {},
     "output_type": "execute_result"
    }
   ],
   "source": [
    "# density acetone measured in exercise 3\n",
    "m_a = ufloat(19.76, u_m, desc=\"mass acetone\")  # [g]\n",
    "V_a = ufloat(25., u_V, desc=\"volume acetone\")  # [mL]\n",
    "rho_a = m_a / V_a  # [kg/dm3]\n",
    "rho_a"
   ]
  },
  {
   "cell_type": "code",
   "execution_count": 12,
   "metadata": {},
   "outputs": [
    {
     "data": {
      "text/plain": [
       "0.0026092800000000007"
      ]
     },
     "execution_count": 12,
     "metadata": {},
     "output_type": "execute_result"
    }
   ],
   "source": [
    "# acetone calculated with method of the Meister book\n",
    "1/V_a.value * u_m + abs(-m_a.value / V_a.value**2) * u_V  # [kg/dm3]"
   ]
  },
  {
   "cell_type": "code",
   "execution_count": 13,
   "metadata": {},
   "outputs": [
    {
     "data": {
      "text/plain": [
       "0.6579999999999999 ± 0.002107119208777709"
      ]
     },
     "execution_count": 13,
     "metadata": {},
     "output_type": "execute_result"
    }
   ],
   "source": [
    "# density n-hexane measured in exercise 3\n",
    "m_n = ufloat(16.45, u_m, desc=\"mass n-hexane\")  # [g]\n",
    "V_n = ufloat(25., u_V, desc=\"volume n-hexane\")  # [mL]\n",
    "rho_n = m_n / V_n  # [kg/dm3]\n",
    "rho_n"
   ]
  },
  {
   "cell_type": "code",
   "execution_count": 14,
   "metadata": {},
   "outputs": [
    {
     "data": {
      "text/plain": [
       "0.0021856"
      ]
     },
     "execution_count": 14,
     "metadata": {},
     "output_type": "execute_result"
    }
   ],
   "source": [
    "# n-hexane calculated with method of the Meister book\n",
    "1/V_n.value * u_m + abs(-m_n.value / V_n.value**2) * u_V  # [kg/dm3]"
   ]
  },
  {
   "cell_type": "code",
   "execution_count": 15,
   "metadata": {},
   "outputs": [],
   "source": [
    "# Molar masses [kg/mol]\n",
    "M_m = ufloat(32.04, desc=\"M methanol\")\n",
    "M_a = ufloat(58.08, desc=\"M acetone\")\n",
    "M_n = ufloat(86.18, desc=\"M acetone\")"
   ]
  },
  {
   "cell_type": "code",
   "execution_count": 16,
   "metadata": {},
   "outputs": [
    {
     "data": {
      "text/plain": [
       "37.43 ± 0.17"
      ]
     },
     "execution_count": 16,
     "metadata": {},
     "output_type": "execute_result"
    }
   ],
   "source": [
    "# evaporation enthalpy\n",
    "H_m = ufloat(37.43, 0.17, desc=\"H methanol\")\n",
    "H_m"
   ]
  },
  {
   "cell_type": "markdown",
   "metadata": {},
   "source": [
    "### Reference: Methanol"
   ]
  },
  {
   "cell_type": "code",
   "execution_count": 17,
   "metadata": {},
   "outputs": [
    {
     "data": {
      "text/plain": [
       "[-28.655065, -29.9144020000002, -29.660473]"
      ]
     },
     "execution_count": 17,
     "metadata": {},
     "output_type": "execute_result"
    }
   ],
   "source": [
    "# read in measured areas\n",
    "met_samples = get_areas(\"../ddr2_exports/methanol_areas.csv\")\n",
    "met_samples"
   ]
  },
  {
   "cell_type": "code",
   "execution_count": 18,
   "metadata": {},
   "outputs": [
    {
     "data": {
      "text/plain": [
       "-29.409980000000065 ± 0.8441024984395747"
      ]
     },
     "execution_count": 18,
     "metadata": {},
     "output_type": "execute_result"
    }
   ],
   "source": [
    "# transform to uncertainty object\n",
    "A_met = ufloatfromsamples(met_samples, desc=\"are methanol\")\n",
    "A_met"
   ]
  },
  {
   "cell_type": "markdown",
   "metadata": {},
   "source": [
    "### Acetone"
   ]
  },
  {
   "cell_type": "code",
   "execution_count": 19,
   "metadata": {},
   "outputs": [
    {
     "data": {
      "text/plain": [
       "[-12.963891, -12.7988540000001, -13.5183319999999]"
      ]
     },
     "execution_count": 19,
     "metadata": {},
     "output_type": "execute_result"
    }
   ],
   "source": [
    "# read in measured areas\n",
    "ac_samples = get_areas(\"../ddr2_exports/acetone_areas.csv\")\n",
    "ac_samples"
   ]
  },
  {
   "cell_type": "code",
   "execution_count": 20,
   "metadata": {},
   "outputs": [
    {
     "data": {
      "text/plain": [
       "-13.093692333333335 ± 0.4776896236957493"
      ]
     },
     "execution_count": 20,
     "metadata": {},
     "output_type": "execute_result"
    }
   ],
   "source": [
    "# transform to uncertainty object\n",
    "A_ac = ufloatfromsamples(ac_samples, desc=\"area acetone\")\n",
    "A_ac"
   ]
  },
  {
   "cell_type": "code",
   "execution_count": 21,
   "metadata": {},
   "outputs": [
    {
     "data": {
      "text/plain": [
       "30.24617388090784 ± 1.4140226667388984"
      ]
     },
     "execution_count": 21,
     "metadata": {},
     "output_type": "execute_result"
    }
   ],
   "source": [
    "# calculate evaporation enthalpy of acetone\n",
    "H_ac = calc_h(\n",
    "    H_ref=H_m,\n",
    "    rho_ref=rho_lit_m,\n",
    "    rho_subst=rho_a,\n",
    "    #rho_subst=rho_lit_a,\n",
    "    M_subst=M_a,\n",
    "    M_ref=M_m,\n",
    "    A_ref=A_met,\n",
    "    A_subst=A_ac,\n",
    ")  # [kJ/mol]\n",
    "H_ac"
   ]
  },
  {
   "cell_type": "code",
   "execution_count": 22,
   "metadata": {},
   "outputs": [
    {
     "data": {
      "text/plain": [
       "1.4140226667388984"
      ]
     },
     "execution_count": 22,
     "metadata": {},
     "output_type": "execute_result"
    }
   ],
   "source": [
    "H_ac.stdunc"
   ]
  },
  {
   "cell_type": "code",
   "execution_count": 23,
   "metadata": {},
   "outputs": [
    {
     "data": {
      "text/latex": [
       "$\\displaystyle \\Delta_VH_{\\text{acetone}} = 30.2 \\pm2.8 \\text{ kJ/mol }(95 \\space \\%)$"
      ],
      "text/plain": [
       "<IPython.core.display.Math object>"
      ]
     },
     "metadata": {},
     "output_type": "display_data"
    }
   ],
   "source": [
    "H_ac_result = r\"\\Delta_VH_{{\\text{{acetone}}}} = {:.1f} \\pm{:.1f} \\text{{ kJ/mol }}(95 \\space \\%)\".format(H_ac.value, H_ac.stdunc * 2)\n",
    "display(Math(H_ac_result))"
   ]
  },
  {
   "cell_type": "code",
   "execution_count": 24,
   "metadata": {},
   "outputs": [
    {
     "name": "stdout",
     "output_type": "stream",
     "text": [
      "\\Delta_VH_{\\text{acetone}} = 30.2 \\pm2.8 \\text{ kJ/mol }(95 \\space \\%)\n"
     ]
    }
   ],
   "source": [
    "print(H_ac_result)"
   ]
  },
  {
   "cell_type": "markdown",
   "metadata": {},
   "source": [
    "### n-Hexane"
   ]
  },
  {
   "cell_type": "code",
   "execution_count": 25,
   "metadata": {},
   "outputs": [
    {
     "data": {
      "text/plain": [
       "[-7.7363979999999, -7.77194099999995, -7.79426499999992]"
      ]
     },
     "execution_count": 25,
     "metadata": {},
     "output_type": "execute_result"
    }
   ],
   "source": [
    "# read in measured areas\n",
    "nhex_samples = get_areas(\"../ddr2_exports/n-hexane_areas.csv\")\n",
    "nhex_samples"
   ]
  },
  {
   "cell_type": "code",
   "execution_count": 26,
   "metadata": {},
   "outputs": [
    {
     "data": {
      "text/plain": [
       "-7.767534666666591 ± 0.036989056992450586"
      ]
     },
     "execution_count": 26,
     "metadata": {},
     "output_type": "execute_result"
    }
   ],
   "source": [
    "# transform to uncertainty object\n",
    "A_nhex = ufloatfromsamples(nhex_samples, desc=\"area n-hexane\")\n",
    "A_nhex"
   ]
  },
  {
   "cell_type": "code",
   "execution_count": 27,
   "metadata": {},
   "outputs": [
    {
     "data": {
      "text/plain": [
       "31.981028970326822 ± 0.9472648790759943"
      ]
     },
     "execution_count": 27,
     "metadata": {},
     "output_type": "execute_result"
    }
   ],
   "source": [
    "# calculate evaporation enthalpy of n-hexane\n",
    "H_nhex = calc_h(\n",
    "    H_ref=H_m,\n",
    "    rho_ref=rho_lit_m,\n",
    "    rho_subst=rho_n,\n",
    "    #rho_subst=rho_lit_n,\n",
    "    M_subst=M_n,\n",
    "    M_ref=M_m,\n",
    "    A_ref=A_met,\n",
    "    A_subst=A_nhex,\n",
    ")  # [kJ/mol]\n",
    "H_nhex"
   ]
  },
  {
   "cell_type": "code",
   "execution_count": 28,
   "metadata": {},
   "outputs": [
    {
     "data": {
      "text/latex": [
       "$\\displaystyle \\Delta_VH_{\\text{n-hexane}} = 32.0 \\pm1.9 \\text{ kJ/mol }(95 \\space \\%)$"
      ],
      "text/plain": [
       "<IPython.core.display.Math object>"
      ]
     },
     "metadata": {},
     "output_type": "display_data"
    }
   ],
   "source": [
    "H_nhex_result = r\"\\Delta_VH_{{\\text{{n-hexane}}}} = {:.1f} \\pm{:.1f} \\text{{ kJ/mol }}(95 \\space \\%)\".format(H_nhex.value, H_nhex.stdunc * 2)\n",
    "display(Math(H_nhex_result))"
   ]
  },
  {
   "cell_type": "code",
   "execution_count": 29,
   "metadata": {},
   "outputs": [
    {
     "name": "stdout",
     "output_type": "stream",
     "text": [
      "\\Delta_VH_{\\text{n-hexane}} = 32.0 \\pm1.9 \\text{ kJ/mol }(95 \\space \\%)\n"
     ]
    }
   ],
   "source": [
    "print(H_nhex_result)"
   ]
  },
  {
   "cell_type": "code",
   "execution_count": 30,
   "metadata": {},
   "outputs": [
    {
     "data": {
      "text/html": [
       "<div>\n",
       "<style scoped>\n",
       "    .dataframe tbody tr th:only-of-type {\n",
       "        vertical-align: middle;\n",
       "    }\n",
       "\n",
       "    .dataframe tbody tr th {\n",
       "        vertical-align: top;\n",
       "    }\n",
       "\n",
       "    .dataframe thead th {\n",
       "        text-align: right;\n",
       "    }\n",
       "</style>\n",
       "<table border=\"1\" class=\"dataframe\">\n",
       "  <thead>\n",
       "    <tr style=\"text-align: right;\">\n",
       "      <th></th>\n",
       "      <th>description</th>\n",
       "      <th>unc component</th>\n",
       "      <th>unc / %</th>\n",
       "    </tr>\n",
       "  </thead>\n",
       "  <tbody>\n",
       "    <tr>\n",
       "      <th>0</th>\n",
       "      <td>SUMMARY</td>\n",
       "      <td>0.947265</td>\n",
       "      <td>100.000000</td>\n",
       "    </tr>\n",
       "    <tr>\n",
       "      <th>1</th>\n",
       "      <td>are methanol</td>\n",
       "      <td>0.917895</td>\n",
       "      <td>93.895095</td>\n",
       "    </tr>\n",
       "    <tr>\n",
       "      <th>2</th>\n",
       "      <td>area n-hexane</td>\n",
       "      <td>0.152294</td>\n",
       "      <td>2.584771</td>\n",
       "    </tr>\n",
       "    <tr>\n",
       "      <th>3</th>\n",
       "      <td>H methanol</td>\n",
       "      <td>0.145252</td>\n",
       "      <td>2.351257</td>\n",
       "    </tr>\n",
       "    <tr>\n",
       "      <th>5</th>\n",
       "      <td>volume n-hexane</td>\n",
       "      <td>0.102339</td>\n",
       "      <td>1.167191</td>\n",
       "    </tr>\n",
       "    <tr>\n",
       "      <th>4</th>\n",
       "      <td>mass n-hexane</td>\n",
       "      <td>0.003888</td>\n",
       "      <td>0.001685</td>\n",
       "    </tr>\n",
       "  </tbody>\n",
       "</table>\n",
       "</div>"
      ],
      "text/plain": [
       "       description  unc component     unc / %\n",
       "0          SUMMARY       0.947265  100.000000\n",
       "1     are methanol       0.917895   93.895095\n",
       "2    area n-hexane       0.152294    2.584771\n",
       "3       H methanol       0.145252    2.351257\n",
       "5  volume n-hexane       0.102339    1.167191\n",
       "4    mass n-hexane       0.003888    0.001685"
      ]
     },
     "execution_count": 30,
     "metadata": {},
     "output_type": "execute_result"
    }
   ],
   "source": [
    "unc_budget(H_nhex)"
   ]
  }
 ],
 "metadata": {
  "kernelspec": {
   "display_name": "Python 3",
   "language": "python",
   "name": "python3"
  },
  "language_info": {
   "codemirror_mode": {
    "name": "ipython",
    "version": 3
   },
   "file_extension": ".py",
   "mimetype": "text/x-python",
   "name": "python",
   "nbconvert_exporter": "python",
   "pygments_lexer": "ipython3",
   "version": "3.8.5"
  }
 },
 "nbformat": 4,
 "nbformat_minor": 4
}
