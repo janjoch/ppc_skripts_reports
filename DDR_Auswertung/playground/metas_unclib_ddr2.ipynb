{
 "cells": [
  {
   "cell_type": "code",
   "execution_count": 1,
   "metadata": {},
   "outputs": [],
   "source": [
    "from IPython.display import display, Math"
   ]
  },
  {
   "cell_type": "code",
   "execution_count": 2,
   "metadata": {},
   "outputs": [],
   "source": [
    "import math"
   ]
  },
  {
   "cell_type": "code",
   "execution_count": 3,
   "metadata": {},
   "outputs": [
    {
     "name": "stderr",
     "output_type": "stream",
     "text": [
      "/Users/Janjo/opt/anaconda3/lib/python3.8/site-packages/pandas/core/computation/expressions.py:20: UserWarning: Pandas requires version '2.7.3' or newer of 'numexpr' (version '2.7.1' currently installed).\n",
      "  from pandas.core.computation.check import NUMEXPR_INSTALLED\n"
     ]
    }
   ],
   "source": [
    "import pandas as pd"
   ]
  },
  {
   "cell_type": "code",
   "execution_count": 4,
   "metadata": {},
   "outputs": [],
   "source": [
    "# METAS UncLib\n",
    "from metas_unclib import *  # import METAS UncLib\n",
    "use_linprop()               # linear unc propagation"
   ]
  },
  {
   "cell_type": "code",
   "execution_count": null,
   "metadata": {},
   "outputs": [],
   "source": []
  },
  {
   "cell_type": "markdown",
   "metadata": {},
   "source": [
    "### Functions"
   ]
  },
  {
   "cell_type": "markdown",
   "metadata": {},
   "source": [
    "$$\\Delta_VH_{\\text{subst}} = \\Delta_VH_{\\text{ref}} {\\rho_{\\text{ref}} \\over \\rho_{\\text{subst}}} {M_{\\text{subst}} \\over M_{\\text{ref}}}$$"
   ]
  },
  {
   "cell_type": "code",
   "execution_count": 5,
   "metadata": {},
   "outputs": [],
   "source": [
    "def calc_h(H_ref, rho_ref, rho_subst, M_ref, M_subst, A_ref, A_subst):\n",
    "    return (\n",
    "        H_ref * (rho_ref / rho_subst)\n",
    "        * (M_subst / M_ref)\n",
    "        * (A_subst / A_ref)\n",
    "    )"
   ]
  },
  {
   "cell_type": "code",
   "execution_count": 6,
   "metadata": {},
   "outputs": [],
   "source": [
    "def get_areas(path):\n",
    "    return list(pd.read_csv(path, sep=\" \").iloc[0])"
   ]
  },
  {
   "cell_type": "markdown",
   "metadata": {},
   "source": [
    "### Measured values and constants"
   ]
  },
  {
   "cell_type": "code",
   "execution_count": 7,
   "metadata": {},
   "outputs": [],
   "source": [
    "# rho values literature [kg/dm3]\n",
    "\n",
    "rho_lit_m = ufloat(0.7914, desc=\"rho methanol (literature)\")\n",
    "rho_lit_a = ufloat(0.7899, desc=\"rho acetone (literature)\")\n",
    "rho_lit_n = ufloat(0.6603, desc=\"rho n-hexane (n-hexane)\")"
   ]
  },
  {
   "cell_type": "code",
   "execution_count": 8,
   "metadata": {},
   "outputs": [],
   "source": [
    "# uncertainties of devices\n",
    "u_m = 0.002  # [g]\n",
    "u_V = 0.08  # [mL]"
   ]
  },
  {
   "cell_type": "code",
   "execution_count": 9,
   "metadata": {},
   "outputs": [
    {
     "data": {
      "text/plain": [
       "0.7904000000000001 ± 0.0025305448659132686"
      ]
     },
     "execution_count": 9,
     "metadata": {},
     "output_type": "execute_result"
    }
   ],
   "source": [
    "# density acetone measured in exercise 3\n",
    "m_a = ufloat(19.76, u_m, desc=\"mass acetone\")  # [g]\n",
    "V_a = ufloat(25., u_V, desc=\"volume acetone\")  # [mL]\n",
    "rho_a = m_a / V_a  # [kg/dm3]\n",
    "rho_a"
   ]
  },
  {
   "cell_type": "code",
   "execution_count": 10,
   "metadata": {},
   "outputs": [
    {
     "data": {
      "text/plain": [
       "0.0026092800000000007"
      ]
     },
     "execution_count": 10,
     "metadata": {},
     "output_type": "execute_result"
    }
   ],
   "source": [
    "# acetone calculated with method of the Meister book\n",
    "1/V_a.value * u_m + abs(-m_a.value / V_a.value**2) * u_V  # [kg/dm3]"
   ]
  },
  {
   "cell_type": "code",
   "execution_count": 11,
   "metadata": {},
   "outputs": [
    {
     "data": {
      "text/plain": [
       "0.6579999999999999 ± 0.002107119208777709"
      ]
     },
     "execution_count": 11,
     "metadata": {},
     "output_type": "execute_result"
    }
   ],
   "source": [
    "# density n-hexane measured in exercise 3\n",
    "m_n = ufloat(16.45, u_m, desc=\"mass n-hexane\")  # [g]\n",
    "V_n = ufloat(25., u_V, desc=\"volume n-hexane\")  # [mL]\n",
    "rho_n = m_n / V_n  # [kg/dm3]\n",
    "rho_n"
   ]
  },
  {
   "cell_type": "code",
   "execution_count": 12,
   "metadata": {},
   "outputs": [
    {
     "data": {
      "text/plain": [
       "0.0021856"
      ]
     },
     "execution_count": 12,
     "metadata": {},
     "output_type": "execute_result"
    }
   ],
   "source": [
    "# n-hexane calculated with method of the Meister book\n",
    "1/V_n.value * u_m + abs(-m_n.value / V_n.value**2) * u_V  # [kg/dm3]"
   ]
  },
  {
   "cell_type": "code",
   "execution_count": 13,
   "metadata": {},
   "outputs": [],
   "source": [
    "# Molar masses [kg/mol]\n",
    "M_m = ufloat(32.04, desc=\"M methanol\")\n",
    "M_a = ufloat(58.08, desc=\"M acetone\")\n",
    "M_n = ufloat(86.18, desc=\"M acetone\")"
   ]
  },
  {
   "cell_type": "code",
   "execution_count": 14,
   "metadata": {},
   "outputs": [
    {
     "data": {
      "text/plain": [
       "37.43 ± 0.17"
      ]
     },
     "execution_count": 14,
     "metadata": {},
     "output_type": "execute_result"
    }
   ],
   "source": [
    "# evaporation enthalpy\n",
    "H_m = ufloat(37.43, 0.17, desc=\"H methanol\")\n",
    "H_m"
   ]
  },
  {
   "cell_type": "markdown",
   "metadata": {},
   "source": [
    "### Reference: Methanol"
   ]
  },
  {
   "cell_type": "code",
   "execution_count": 15,
   "metadata": {},
   "outputs": [
    {
     "data": {
      "text/plain": [
       "[-28.655065, -29.9144020000002, -29.660473]"
      ]
     },
     "execution_count": 15,
     "metadata": {},
     "output_type": "execute_result"
    }
   ],
   "source": [
    "# read in measured areas\n",
    "met_samples = get_areas(\"../ddr2_exports/methanol_areas.csv\")\n",
    "met_samples"
   ]
  },
  {
   "cell_type": "code",
   "execution_count": 16,
   "metadata": {},
   "outputs": [
    {
     "data": {
      "text/plain": [
       "-29.409980000000065 ± 0.8441024984395747"
      ]
     },
     "execution_count": 16,
     "metadata": {},
     "output_type": "execute_result"
    }
   ],
   "source": [
    "# transform to uncertainty object\n",
    "A_met = ufloatfromsamples(met_samples, desc=\"are methanol\")\n",
    "A_met"
   ]
  },
  {
   "cell_type": "markdown",
   "metadata": {},
   "source": [
    "### Acetone"
   ]
  },
  {
   "cell_type": "code",
   "execution_count": 17,
   "metadata": {},
   "outputs": [
    {
     "data": {
      "text/plain": [
       "[-12.963891, -12.7988540000001, -13.5183319999999]"
      ]
     },
     "execution_count": 17,
     "metadata": {},
     "output_type": "execute_result"
    }
   ],
   "source": [
    "# read in measured areas\n",
    "ac_samples = get_areas(\"../ddr2_exports/acetone_areas.csv\")\n",
    "ac_samples"
   ]
  },
  {
   "cell_type": "code",
   "execution_count": 18,
   "metadata": {},
   "outputs": [
    {
     "data": {
      "text/plain": [
       "-13.093692333333335 ± 0.4776896236957493"
      ]
     },
     "execution_count": 18,
     "metadata": {},
     "output_type": "execute_result"
    }
   ],
   "source": [
    "# transform to uncertainty object\n",
    "A_ac = ufloatfromsamples(ac_samples, desc=\"are acetone\")\n",
    "A_ac"
   ]
  },
  {
   "cell_type": "code",
   "execution_count": 19,
   "metadata": {},
   "outputs": [
    {
     "data": {
      "text/plain": [
       "30.24617388090784 ± 1.4140226667388984"
      ]
     },
     "execution_count": 19,
     "metadata": {},
     "output_type": "execute_result"
    }
   ],
   "source": [
    "# calculate evaporation enthalpy of acetone\n",
    "H_ac = calc_h(\n",
    "    H_ref=H_m,\n",
    "    rho_ref=rho_lit_m,\n",
    "    rho_subst=rho_a,\n",
    "    #rho_subst=rho_lit_a,\n",
    "    M_subst=M_a,\n",
    "    M_ref=M_m,\n",
    "    A_ref=A_met,\n",
    "    A_subst=A_ac,\n",
    ")  # [kJ/mol]\n",
    "H_ac"
   ]
  },
  {
   "cell_type": "code",
   "execution_count": 20,
   "metadata": {},
   "outputs": [
    {
     "data": {
      "text/plain": [
       "1.4140226667388984"
      ]
     },
     "execution_count": 20,
     "metadata": {},
     "output_type": "execute_result"
    }
   ],
   "source": [
    "H_ac.stdunc"
   ]
  },
  {
   "cell_type": "code",
   "execution_count": 21,
   "metadata": {},
   "outputs": [
    {
     "data": {
      "text/latex": [
       "$\\displaystyle \\Delta_VH_{\\text{acetone}} = 30.2 \\pm2.8 \\text{ kJ/mol }(95 \\space \\%)$"
      ],
      "text/plain": [
       "<IPython.core.display.Math object>"
      ]
     },
     "metadata": {},
     "output_type": "display_data"
    }
   ],
   "source": [
    "H_ac_result = r\"\\Delta_VH_{{\\text{{acetone}}}} = {:.1f} \\pm{:.1f} \\text{{ kJ/mol }}(95 \\space \\%)\".format(H_ac.value, H_ac.stdunc * 2)\n",
    "display(Math(H_ac_result))"
   ]
  },
  {
   "cell_type": "code",
   "execution_count": 22,
   "metadata": {},
   "outputs": [
    {
     "name": "stdout",
     "output_type": "stream",
     "text": [
      "\\Delta_VH_{\\text{acetone}} = 30.2 \\pm2.8 \\text{ kJ/mol }(95 \\space \\%)\n"
     ]
    }
   ],
   "source": [
    "print(H_ac_result)"
   ]
  },
  {
   "cell_type": "markdown",
   "metadata": {},
   "source": [
    "### n-Hexane"
   ]
  },
  {
   "cell_type": "code",
   "execution_count": 23,
   "metadata": {},
   "outputs": [
    {
     "data": {
      "text/plain": [
       "[-7.7363979999999, -7.77194099999995, -7.79426499999992]"
      ]
     },
     "execution_count": 23,
     "metadata": {},
     "output_type": "execute_result"
    }
   ],
   "source": [
    "# read in measured areas\n",
    "nhex_samples = get_areas(\"../ddr2_exports/n-hexane_areas.csv\")\n",
    "nhex_samples"
   ]
  },
  {
   "cell_type": "code",
   "execution_count": 24,
   "metadata": {},
   "outputs": [
    {
     "data": {
      "text/plain": [
       "-7.767534666666591 ± 0.036989056992450586"
      ]
     },
     "execution_count": 24,
     "metadata": {},
     "output_type": "execute_result"
    }
   ],
   "source": [
    "# transform to uncertainty object\n",
    "A_nhex = ufloatfromsamples(nhex_samples, desc=\"are n-hexane\")\n",
    "A_nhex"
   ]
  },
  {
   "cell_type": "code",
   "execution_count": 25,
   "metadata": {},
   "outputs": [
    {
     "data": {
      "text/plain": [
       "31.981028970326822 ± 0.9472648790759943"
      ]
     },
     "execution_count": 25,
     "metadata": {},
     "output_type": "execute_result"
    }
   ],
   "source": [
    "# calculate evaporation enthalpy of acetone\n",
    "H_nhex = calc_h(\n",
    "    H_ref=H_m,\n",
    "    rho_ref=rho_lit_m,\n",
    "    rho_subst=rho_n,\n",
    "    #rho_subst=rho_lit_n,\n",
    "    M_subst=M_n,\n",
    "    M_ref=M_m,\n",
    "    A_ref=A_met,\n",
    "    A_subst=A_nhex,\n",
    ")  # [kJ/mol]\n",
    "H_nhex"
   ]
  },
  {
   "cell_type": "code",
   "execution_count": 26,
   "metadata": {},
   "outputs": [
    {
     "data": {
      "text/latex": [
       "$\\displaystyle \\Delta_VH_{\\text{n-hexane}} = 32.0 \\pm1.9 \\text{ kJ/mol }(95 \\space \\%)$"
      ],
      "text/plain": [
       "<IPython.core.display.Math object>"
      ]
     },
     "metadata": {},
     "output_type": "display_data"
    }
   ],
   "source": [
    "H_nhex_result = r\"\\Delta_VH_{{\\text{{n-hexane}}}} = {:.1f} \\pm{:.1f} \\text{{ kJ/mol }}(95 \\space \\%)\".format(H_nhex.value, H_nhex.stdunc * 2)\n",
    "display(Math(H_nhex_result))"
   ]
  },
  {
   "cell_type": "code",
   "execution_count": 27,
   "metadata": {},
   "outputs": [
    {
     "name": "stdout",
     "output_type": "stream",
     "text": [
      "\\Delta_VH_{\\text{n-hexane}} = 32.0 \\pm1.9 \\text{ kJ/mol }(95 \\space \\%)\n"
     ]
    }
   ],
   "source": [
    "print(H_nhex_result)"
   ]
  },
  {
   "cell_type": "code",
   "execution_count": 29,
   "metadata": {},
   "outputs": [
    {
     "ename": "TypeInitializationException",
     "evalue": "The type initializer for 'Metas.UncLib.LinProp.Gui.AdvDataGridView.TreeGridCell' threw an exception. ---> System.TypeInitializationException: The type initializer for 'Metas.UncLib.LinProp.Gui.HighDPIHelper' threw an exception. ---> System.NotSupportedException: Specified method is not supported.\n  at System.Drawing.MacSupport.GetCGContextForView (System.IntPtr handle) [0x0001a] in <46211e77867d4bab9f351df30c9eb30f>:0 \n  at System.Drawing.Graphics.FromHwnd (System.IntPtr hwnd) [0x00055] in <46211e77867d4bab9f351df30c9eb30f>:0 \n  at System.Windows.Forms.Control.CreateGraphics () [0x00019] in <38b5c19bf0044cf3acc9fe822edc4df6>:0 \n  at (wrapper remoting-invoke-with-check) System.Windows.Forms.Control.CreateGraphics()\n  at Metas.UncLib.LinProp.Gui.HighDPIHelper..cctor () [0x00010] in <c38f2f7a0e374af782943247fd92e469>:0 \n   --- End of inner exception stack trace ---\n  at Metas.UncLib.LinProp.Gui.AdvDataGridView.TreeGridCell..cctor () [0x00000] in <c38f2f7a0e374af782943247fd92e469>:0 \n   --- End of inner exception stack trace ---\n  at Metas.UncLib.LinProp.Gui.AdvDataGridView.TreeGridColumn..ctor () [0x00006] in <c38f2f7a0e374af782943247fd92e469>:0 \n  at Metas.UncLib.LinProp.Gui.GuiUncBudget.InitializeComponent () [0x000e9] in <c38f2f7a0e374af782943247fd92e469>:0 \n  at Metas.UncLib.LinProp.Gui.GuiUncBudget..ctor () [0x0001a] in <c38f2f7a0e374af782943247fd92e469>:0 \n  at (wrapper managed-to-native) System.Reflection.RuntimeConstructorInfo.InternalInvoke(System.Reflection.RuntimeConstructorInfo,object,object[],System.Exception&)\n  at System.Reflection.RuntimeConstructorInfo.InternalInvoke (System.Object obj, System.Object[] parameters, System.Boolean wrapExceptions) [0x00005] in <baaab171478d4061bd9316f48a642f06>:0 ",
     "output_type": "error",
     "traceback": [
      "\u001b[0;31m---------------------------------------------------------------------------\u001b[0m",
      "\u001b[0;31mNotSupportedException\u001b[0m                     Traceback (most recent call last)",
      "\u001b[0;31mNotSupportedException\u001b[0m: Specified method is not supported.\n  at System.Drawing.MacSupport.GetCGContextForView (System.IntPtr handle) [0x0001a] in <46211e77867d4bab9f351df30c9eb30f>:0 \n  at System.Drawing.Graphics.FromHwnd (System.IntPtr hwnd) [0x00055] in <46211e77867d4bab9f351df30c9eb30f>:0 \n  at System.Windows.Forms.Control.CreateGraphics () [0x00019] in <38b5c19bf0044cf3acc9fe822edc4df6>:0 \n  at (wrapper remoting-invoke-with-check) System.Windows.Forms.Control.CreateGraphics()\n  at Metas.UncLib.LinProp.Gui.HighDPIHelper..cctor () [0x00010] in <c38f2f7a0e374af782943247fd92e469>:0 ",
      "\nThe above exception was the direct cause of the following exception:\n",
      "\u001b[0;31mTypeInitializationException\u001b[0m               Traceback (most recent call last)",
      "\u001b[0;31mTypeInitializationException\u001b[0m: The type initializer for 'Metas.UncLib.LinProp.Gui.HighDPIHelper' threw an exception. ---> System.NotSupportedException: Specified method is not supported.\n  at System.Drawing.MacSupport.GetCGContextForView (System.IntPtr handle) [0x0001a] in <46211e77867d4bab9f351df30c9eb30f>:0 \n  at System.Drawing.Graphics.FromHwnd (System.IntPtr hwnd) [0x00055] in <46211e77867d4bab9f351df30c9eb30f>:0 \n  at System.Windows.Forms.Control.CreateGraphics () [0x00019] in <38b5c19bf0044cf3acc9fe822edc4df6>:0 \n  at (wrapper remoting-invoke-with-check) System.Windows.Forms.Control.CreateGraphics()\n  at Metas.UncLib.LinProp.Gui.HighDPIHelper..cctor () [0x00010] in <c38f2f7a0e374af782943247fd92e469>:0 \n   --- End of inner exception stack trace ---\n  at Metas.UncLib.LinProp.Gui.AdvDataGridView.TreeGridCell..cctor () [0x00000] in <c38f2f7a0e374af782943247fd92e469>:0 ",
      "\nThe above exception was the direct cause of the following exception:\n",
      "\u001b[0;31mTypeInitializationException\u001b[0m               Traceback (most recent call last)",
      "\u001b[0;32m<ipython-input-29-af01cfda36c2>\u001b[0m in \u001b[0;36m<module>\u001b[0;34m\u001b[0m\n\u001b[0;32m----> 1\u001b[0;31m \u001b[0munc_budget\u001b[0m\u001b[0;34m(\u001b[0m\u001b[0mH_nhex\u001b[0m\u001b[0;34m)\u001b[0m\u001b[0;34m\u001b[0m\u001b[0;34m\u001b[0m\u001b[0m\n\u001b[0m",
      "\u001b[0;32m~/opt/anaconda3/lib/python3.8/site-packages/metas_unclib/metas_unclib.py\u001b[0m in \u001b[0;36munc_budget\u001b[0;34m(a, format, name, infos)\u001b[0m\n\u001b[1;32m    231\u001b[0m         \u001b[0mb\u001b[0m \u001b[0;34m=\u001b[0m \u001b[0m_asunclist\u001b[0m\u001b[0;34m(\u001b[0m\u001b[0ma\u001b[0m\u001b[0;34m)\u001b[0m\u001b[0;34m\u001b[0m\u001b[0;34m\u001b[0m\u001b[0m\n\u001b[1;32m    232\u001b[0m         \u001b[0;32mif\u001b[0m \u001b[0mlen\u001b[0m\u001b[0;34m(\u001b[0m\u001b[0mb\u001b[0m\u001b[0;34m.\u001b[0m\u001b[0mdata\u001b[0m\u001b[0;34m)\u001b[0m \u001b[0;34m==\u001b[0m \u001b[0;36m1\u001b[0m\u001b[0;34m:\u001b[0m\u001b[0;34m\u001b[0m\u001b[0;34m\u001b[0m\u001b[0m\n\u001b[0;32m--> 233\u001b[0;31m                 \u001b[0mc\u001b[0m \u001b[0;34m=\u001b[0m \u001b[0m_GuiUncBudget\u001b[0m\u001b[0;34m(\u001b[0m\u001b[0;34m)\u001b[0m\u001b[0;34m\u001b[0m\u001b[0;34m\u001b[0m\u001b[0m\n\u001b[0m\u001b[1;32m    234\u001b[0m         \u001b[0;32melse\u001b[0m\u001b[0;34m:\u001b[0m\u001b[0;34m\u001b[0m\u001b[0;34m\u001b[0m\u001b[0m\n\u001b[1;32m    235\u001b[0m                 \u001b[0mc\u001b[0m \u001b[0;34m=\u001b[0m \u001b[0m_GuiUncListBudget\u001b[0m\u001b[0;34m(\u001b[0m\u001b[0;34m)\u001b[0m\u001b[0;34m\u001b[0m\u001b[0;34m\u001b[0m\u001b[0m\n",
      "\u001b[0;31mTypeInitializationException\u001b[0m: The type initializer for 'Metas.UncLib.LinProp.Gui.AdvDataGridView.TreeGridCell' threw an exception. ---> System.TypeInitializationException: The type initializer for 'Metas.UncLib.LinProp.Gui.HighDPIHelper' threw an exception. ---> System.NotSupportedException: Specified method is not supported.\n  at System.Drawing.MacSupport.GetCGContextForView (System.IntPtr handle) [0x0001a] in <46211e77867d4bab9f351df30c9eb30f>:0 \n  at System.Drawing.Graphics.FromHwnd (System.IntPtr hwnd) [0x00055] in <46211e77867d4bab9f351df30c9eb30f>:0 \n  at System.Windows.Forms.Control.CreateGraphics () [0x00019] in <38b5c19bf0044cf3acc9fe822edc4df6>:0 \n  at (wrapper remoting-invoke-with-check) System.Windows.Forms.Control.CreateGraphics()\n  at Metas.UncLib.LinProp.Gui.HighDPIHelper..cctor () [0x00010] in <c38f2f7a0e374af782943247fd92e469>:0 \n   --- End of inner exception stack trace ---\n  at Metas.UncLib.LinProp.Gui.AdvDataGridView.TreeGridCell..cctor () [0x00000] in <c38f2f7a0e374af782943247fd92e469>:0 \n   --- End of inner exception stack trace ---\n  at Metas.UncLib.LinProp.Gui.AdvDataGridView.TreeGridColumn..ctor () [0x00006] in <c38f2f7a0e374af782943247fd92e469>:0 \n  at Metas.UncLib.LinProp.Gui.GuiUncBudget.InitializeComponent () [0x000e9] in <c38f2f7a0e374af782943247fd92e469>:0 \n  at Metas.UncLib.LinProp.Gui.GuiUncBudget..ctor () [0x0001a] in <c38f2f7a0e374af782943247fd92e469>:0 \n  at (wrapper managed-to-native) System.Reflection.RuntimeConstructorInfo.InternalInvoke(System.Reflection.RuntimeConstructorInfo,object,object[],System.Exception&)\n  at System.Reflection.RuntimeConstructorInfo.InternalInvoke (System.Object obj, System.Object[] parameters, System.Boolean wrapExceptions) [0x00005] in <baaab171478d4061bd9316f48a642f06>:0 "
     ]
    }
   ],
   "source": [
    "unc_budget(H_nhex)"
   ]
  },
  {
   "cell_type": "code",
   "execution_count": null,
   "metadata": {},
   "outputs": [],
   "source": [
    "unc_budget??"
   ]
  },
  {
   "cell_type": "code",
   "execution_count": null,
   "metadata": {},
   "outputs": [],
   "source": []
  }
 ],
 "metadata": {
  "kernelspec": {
   "display_name": "Python 3",
   "language": "python",
   "name": "python3"
  },
  "language_info": {
   "codemirror_mode": {
    "name": "ipython",
    "version": 3
   },
   "file_extension": ".py",
   "mimetype": "text/x-python",
   "name": "python",
   "nbconvert_exporter": "python",
   "pygments_lexer": "ipython3",
   "version": "3.8.5"
  }
 },
 "nbformat": 4,
 "nbformat_minor": 4
}
