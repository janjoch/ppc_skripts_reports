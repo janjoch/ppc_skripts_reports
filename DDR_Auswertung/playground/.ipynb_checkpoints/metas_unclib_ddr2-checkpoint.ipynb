{
 "cells": [
  {
   "cell_type": "code",
   "execution_count": 18,
   "metadata": {},
   "outputs": [],
   "source": [
    "import math"
   ]
  },
  {
   "cell_type": "code",
   "execution_count": null,
   "metadata": {},
   "outputs": [],
   "source": [
    "# METAS UncLib\n",
    "from metas_unclib import *  # import METAS UncLib\n",
    "use_linprop()               # linear unc propagation"
   ]
  },
  {
   "cell_type": "code",
   "execution_count": null,
   "metadata": {},
   "outputs": [],
   "source": []
  },
  {
   "cell_type": "code",
   "execution_count": 16,
   "metadata": {},
   "outputs": [],
   "source": [
    "samples = [3,4]"
   ]
  },
  {
   "cell_type": "code",
   "execution_count": 17,
   "metadata": {},
   "outputs": [
    {
     "data": {
      "text/plain": [
       "3.5 ± 3.2414383214180478"
      ]
     },
     "execution_count": 17,
     "metadata": {},
     "output_type": "execute_result"
    }
   ],
   "source": [
    "ufloatfromsamples(samples)"
   ]
  },
  {
   "cell_type": "code",
   "execution_count": 9,
   "metadata": {},
   "outputs": [
    {
     "data": {
      "text/plain": [
       "['BinarySetDataFrom',\n",
       " 'BinaryWriteDataTo',\n",
       " 'Equals',\n",
       " 'Finalize',\n",
       " 'GenerateRandomNumbers',\n",
       " 'GetHashCode',\n",
       " 'GetType',\n",
       " 'Mean',\n",
       " 'MemberwiseClone',\n",
       " 'Overloads',\n",
       " 'ReferenceEquals',\n",
       " 'Samples',\n",
       " 'Std',\n",
       " 'ToString',\n",
       " 'Type',\n",
       " '__class__',\n",
       " '__delattr__',\n",
       " '__dir__',\n",
       " '__doc__',\n",
       " '__eq__',\n",
       " '__format__',\n",
       " '__ge__',\n",
       " '__getattribute__',\n",
       " '__gt__',\n",
       " '__hash__',\n",
       " '__init__',\n",
       " '__init_subclass__',\n",
       " '__le__',\n",
       " '__lt__',\n",
       " '__module__',\n",
       " '__ne__',\n",
       " '__new__',\n",
       " '__overloads__',\n",
       " '__reduce__',\n",
       " '__reduce_ex__',\n",
       " '__repr__',\n",
       " '__setattr__',\n",
       " '__sizeof__',\n",
       " '__str__',\n",
       " '__subclasshook__',\n",
       " 'dof',\n",
       " 'get_Mean',\n",
       " 'get_Samples',\n",
       " 'get_Std',\n",
       " 'get_Type',\n",
       " 'get_dof',\n",
       " 'get_mu',\n",
       " 'get_sigma',\n",
       " 'mu',\n",
       " 'set_Samples',\n",
       " 'sigma']"
      ]
     },
     "execution_count": 9,
     "metadata": {},
     "output_type": "execute_result"
    }
   ],
   "source": [
    "dir(StudentTFromSamplesDistribution((3,4)))"
   ]
  },
  {
   "cell_type": "code",
   "execution_count": null,
   "metadata": {},
   "outputs": [],
   "source": []
  },
  {
   "cell_type": "markdown",
   "metadata": {},
   "source": [
    "### Example from M.Wollensack unclib"
   ]
  },
  {
   "cell_type": "code",
   "execution_count": 2,
   "metadata": {},
   "outputs": [
    {
     "name": "stdout",
     "output_type": "stream",
     "text": [
      "Example Pendulum\n",
      "Begin\n",
      "9.827632967475108 ± 0.050571068931520406\n"
     ]
    },
    {
     "ename": "TypeInitializationException",
     "evalue": "The type initializer for 'Metas.UncLib.LinProp.Gui.AdvDataGridView.TreeGridCell' threw an exception. ---> System.TypeInitializationException: The type initializer for 'Metas.UncLib.LinProp.Gui.HighDPIHelper' threw an exception. ---> System.NotSupportedException: Specified method is not supported.\n  at System.Drawing.MacSupport.GetCGContextForView (System.IntPtr handle) [0x0001a] in <46211e77867d4bab9f351df30c9eb30f>:0 \n  at System.Drawing.Graphics.FromHwnd (System.IntPtr hwnd) [0x00055] in <46211e77867d4bab9f351df30c9eb30f>:0 \n  at System.Windows.Forms.Control.CreateGraphics () [0x00019] in <38b5c19bf0044cf3acc9fe822edc4df6>:0 \n  at (wrapper remoting-invoke-with-check) System.Windows.Forms.Control.CreateGraphics()\n  at Metas.UncLib.LinProp.Gui.HighDPIHelper..cctor () [0x00010] in <b4f25d8e0d14416fbf53e8ec9a048942>:0 \n   --- End of inner exception stack trace ---\n  at Metas.UncLib.LinProp.Gui.AdvDataGridView.TreeGridCell..cctor () [0x00000] in <b4f25d8e0d14416fbf53e8ec9a048942>:0 \n   --- End of inner exception stack trace ---\n  at Metas.UncLib.LinProp.Gui.AdvDataGridView.TreeGridColumn..ctor () [0x00006] in <b4f25d8e0d14416fbf53e8ec9a048942>:0 \n  at Metas.UncLib.LinProp.Gui.GuiUncBudget.InitializeComponent () [0x00195] in <b4f25d8e0d14416fbf53e8ec9a048942>:0 \n  at Metas.UncLib.LinProp.Gui.GuiUncBudget..ctor () [0x0001a] in <b4f25d8e0d14416fbf53e8ec9a048942>:0 \n  at (wrapper managed-to-native) System.Reflection.RuntimeConstructorInfo.InternalInvoke(System.Reflection.RuntimeConstructorInfo,object,object[],System.Exception&)\n  at System.Reflection.RuntimeConstructorInfo.InternalInvoke (System.Object obj, System.Object[] parameters, System.Boolean wrapExceptions) [0x00005] in <baaab171478d4061bd9316f48a642f06>:0 ",
     "output_type": "error",
     "traceback": [
      "\u001b[0;31m---------------------------------------------------------------------------\u001b[0m",
      "\u001b[0;31mNotSupportedException\u001b[0m                     Traceback (most recent call last)",
      "\u001b[0;31mNotSupportedException\u001b[0m: Specified method is not supported.\n  at System.Drawing.MacSupport.GetCGContextForView (System.IntPtr handle) [0x0001a] in <46211e77867d4bab9f351df30c9eb30f>:0 \n  at System.Drawing.Graphics.FromHwnd (System.IntPtr hwnd) [0x00055] in <46211e77867d4bab9f351df30c9eb30f>:0 \n  at System.Windows.Forms.Control.CreateGraphics () [0x00019] in <38b5c19bf0044cf3acc9fe822edc4df6>:0 \n  at (wrapper remoting-invoke-with-check) System.Windows.Forms.Control.CreateGraphics()\n  at Metas.UncLib.LinProp.Gui.HighDPIHelper..cctor () [0x00010] in <b4f25d8e0d14416fbf53e8ec9a048942>:0 ",
      "\nThe above exception was the direct cause of the following exception:\n",
      "\u001b[0;31mTypeInitializationException\u001b[0m               Traceback (most recent call last)",
      "\u001b[0;31mTypeInitializationException\u001b[0m: The type initializer for 'Metas.UncLib.LinProp.Gui.HighDPIHelper' threw an exception. ---> System.NotSupportedException: Specified method is not supported.\n  at System.Drawing.MacSupport.GetCGContextForView (System.IntPtr handle) [0x0001a] in <46211e77867d4bab9f351df30c9eb30f>:0 \n  at System.Drawing.Graphics.FromHwnd (System.IntPtr hwnd) [0x00055] in <46211e77867d4bab9f351df30c9eb30f>:0 \n  at System.Windows.Forms.Control.CreateGraphics () [0x00019] in <38b5c19bf0044cf3acc9fe822edc4df6>:0 \n  at (wrapper remoting-invoke-with-check) System.Windows.Forms.Control.CreateGraphics()\n  at Metas.UncLib.LinProp.Gui.HighDPIHelper..cctor () [0x00010] in <b4f25d8e0d14416fbf53e8ec9a048942>:0 \n   --- End of inner exception stack trace ---\n  at Metas.UncLib.LinProp.Gui.AdvDataGridView.TreeGridCell..cctor () [0x00000] in <b4f25d8e0d14416fbf53e8ec9a048942>:0 ",
      "\nThe above exception was the direct cause of the following exception:\n",
      "\u001b[0;31mTypeInitializationException\u001b[0m               Traceback (most recent call last)",
      "\u001b[0;32m<ipython-input-2-5a7d369c4238>\u001b[0m in \u001b[0;36m<module>\u001b[0;34m\u001b[0m\n\u001b[1;32m     61\u001b[0m \u001b[0;31m# Output quantaty\u001b[0m\u001b[0;34m\u001b[0m\u001b[0;34m\u001b[0m\u001b[0;34m\u001b[0m\u001b[0m\n\u001b[1;32m     62\u001b[0m \u001b[0mprint\u001b[0m\u001b[0;34m(\u001b[0m\u001b[0mg\u001b[0m\u001b[0;34m)\u001b[0m\u001b[0;34m\u001b[0m\u001b[0;34m\u001b[0m\u001b[0m\n\u001b[0;32m---> 63\u001b[0;31m \u001b[0munc_budget\u001b[0m\u001b[0;34m(\u001b[0m\u001b[0mg\u001b[0m\u001b[0;34m)\u001b[0m\u001b[0;34m\u001b[0m\u001b[0;34m\u001b[0m\u001b[0m\n\u001b[0m\u001b[1;32m     64\u001b[0m \u001b[0;34m\u001b[0m\u001b[0m\n\u001b[1;32m     65\u001b[0m \u001b[0mprint\u001b[0m\u001b[0;34m(\u001b[0m\u001b[0;34m'End'\u001b[0m\u001b[0;34m)\u001b[0m\u001b[0;34m\u001b[0m\u001b[0;34m\u001b[0m\u001b[0m\n",
      "\u001b[0;32m~/opt/anaconda3/lib/python3.8/site-packages/metas_unclib/metas_unclib.py\u001b[0m in \u001b[0;36munc_budget\u001b[0;34m(a, format, name, infos)\u001b[0m\n\u001b[1;32m    231\u001b[0m         \u001b[0mb\u001b[0m \u001b[0;34m=\u001b[0m \u001b[0m_asunclist\u001b[0m\u001b[0;34m(\u001b[0m\u001b[0ma\u001b[0m\u001b[0;34m)\u001b[0m\u001b[0;34m\u001b[0m\u001b[0;34m\u001b[0m\u001b[0m\n\u001b[1;32m    232\u001b[0m         \u001b[0;32mif\u001b[0m \u001b[0mlen\u001b[0m\u001b[0;34m(\u001b[0m\u001b[0mb\u001b[0m\u001b[0;34m.\u001b[0m\u001b[0mdata\u001b[0m\u001b[0;34m)\u001b[0m \u001b[0;34m==\u001b[0m \u001b[0;36m1\u001b[0m\u001b[0;34m:\u001b[0m\u001b[0;34m\u001b[0m\u001b[0;34m\u001b[0m\u001b[0m\n\u001b[0;32m--> 233\u001b[0;31m                 \u001b[0mc\u001b[0m \u001b[0;34m=\u001b[0m \u001b[0m_GuiUncBudget\u001b[0m\u001b[0;34m(\u001b[0m\u001b[0;34m)\u001b[0m\u001b[0;34m\u001b[0m\u001b[0;34m\u001b[0m\u001b[0m\n\u001b[0m\u001b[1;32m    234\u001b[0m         \u001b[0;32melse\u001b[0m\u001b[0;34m:\u001b[0m\u001b[0;34m\u001b[0m\u001b[0;34m\u001b[0m\u001b[0m\n\u001b[1;32m    235\u001b[0m                 \u001b[0mc\u001b[0m \u001b[0;34m=\u001b[0m \u001b[0m_GuiUncListBudget\u001b[0m\u001b[0;34m(\u001b[0m\u001b[0;34m)\u001b[0m\u001b[0;34m\u001b[0m\u001b[0;34m\u001b[0m\u001b[0m\n",
      "\u001b[0;31mTypeInitializationException\u001b[0m: The type initializer for 'Metas.UncLib.LinProp.Gui.AdvDataGridView.TreeGridCell' threw an exception. ---> System.TypeInitializationException: The type initializer for 'Metas.UncLib.LinProp.Gui.HighDPIHelper' threw an exception. ---> System.NotSupportedException: Specified method is not supported.\n  at System.Drawing.MacSupport.GetCGContextForView (System.IntPtr handle) [0x0001a] in <46211e77867d4bab9f351df30c9eb30f>:0 \n  at System.Drawing.Graphics.FromHwnd (System.IntPtr hwnd) [0x00055] in <46211e77867d4bab9f351df30c9eb30f>:0 \n  at System.Windows.Forms.Control.CreateGraphics () [0x00019] in <38b5c19bf0044cf3acc9fe822edc4df6>:0 \n  at (wrapper remoting-invoke-with-check) System.Windows.Forms.Control.CreateGraphics()\n  at Metas.UncLib.LinProp.Gui.HighDPIHelper..cctor () [0x00010] in <b4f25d8e0d14416fbf53e8ec9a048942>:0 \n   --- End of inner exception stack trace ---\n  at Metas.UncLib.LinProp.Gui.AdvDataGridView.TreeGridCell..cctor () [0x00000] in <b4f25d8e0d14416fbf53e8ec9a048942>:0 \n   --- End of inner exception stack trace ---\n  at Metas.UncLib.LinProp.Gui.AdvDataGridView.TreeGridColumn..ctor () [0x00006] in <b4f25d8e0d14416fbf53e8ec9a048942>:0 \n  at Metas.UncLib.LinProp.Gui.GuiUncBudget.InitializeComponent () [0x00195] in <b4f25d8e0d14416fbf53e8ec9a048942>:0 \n  at Metas.UncLib.LinProp.Gui.GuiUncBudget..ctor () [0x0001a] in <b4f25d8e0d14416fbf53e8ec9a048942>:0 \n  at (wrapper managed-to-native) System.Reflection.RuntimeConstructorInfo.InternalInvoke(System.Reflection.RuntimeConstructorInfo,object,object[],System.Exception&)\n  at System.Reflection.RuntimeConstructorInfo.InternalInvoke (System.Object obj, System.Object[] parameters, System.Boolean wrapExceptions) [0x00005] in <baaab171478d4061bd9316f48a642f06>:0 "
     ]
    }
   ],
   "source": [
    "# Example Pendulum\n",
    "# Michael Wollensack METAS - 22.08.2023\n",
    "\n",
    "print('Example Pendulum')\n",
    "print('Begin')\n",
    "\n",
    "# METAS UncLib\n",
    "from metas_unclib import *  # import METAS UncLib\n",
    "use_linprop()               # linear unc propagation\n",
    "\n",
    "# Input quantaties time measurement\n",
    "n_periods = 20\n",
    "\n",
    "n_tau_meas = ufloatfromdistribution(\n",
    "  StudentTDistribution(24.9060, 0.0712 / np.sqrt(10), 9),\n",
    "  desc='Time N Periods Measurement / s')\n",
    "\n",
    "dtau_react = ufloatfromdistribution(\n",
    "  UniformDistribution(-0.1, 0.1),\n",
    "  desc='Time Reaction / s')\n",
    "\n",
    "dtau_res = ufloatfromdistribution(\n",
    "  UniformDistribution(-0.005, 0.005),\n",
    "  desc='Time Resolution / s')\n",
    "\n",
    "# Input quantaties length measurement\n",
    "L_meas = ufloatfromdistribution(\n",
    "  StudentTDistribution(0.33316, 0.00026 / np.sqrt(6), 5),\n",
    "  desc='Length Measurement / m')\n",
    "\n",
    "dL_res = ufloatfromdistribution(\n",
    "  UniformDistribution(-0.0005, 0.0005),\n",
    "  desc='Length Resolution / m')\n",
    "\n",
    "dL_read = ufloatfromdistribution(\n",
    "  TriangularDistribution(-0.0005, 0.0005),\n",
    "  desc='Length Reading / m')\n",
    "\n",
    "# Input quantaties diameter measurement\n",
    "D_meas = ufloatfromdistribution(\n",
    "  StudentTDistribution(0.1005, 0.000058 / np.sqrt(4), 3), \n",
    "  desc='Diameter Measurement / m')\n",
    "\n",
    "dD_res = ufloatfromdistribution(\n",
    "  UniformDistribution(-0.001, 0.001), \n",
    "  desc='Diameter Resolution / m')\n",
    "\n",
    "dD_read = ufloatfromdistribution(\n",
    "  TriangularDistribution(-0.0005, 0.0005), \n",
    "  desc='Diameter Reading / m')\n",
    "\n",
    "# Measurement model\n",
    "n_tau = n_tau_meas + dtau_res + dtau_react\n",
    "tau = n_tau / n_periods\n",
    "L = L_meas + dL_res + dL_read\n",
    "D = D_meas + dD_res + dD_read\n",
    "\n",
    "g = 4 * np.pi**2 / tau**2 * (L + D / 2 + \n",
    "                            (D**2 / (5 * (2 * L + D))))\n",
    "\n",
    "# Output quantaty\n",
    "print(g)\n",
    "unc_budget(g)\n",
    "\n",
    "print('End')"
   ]
  },
  {
   "cell_type": "code",
   "execution_count": null,
   "metadata": {},
   "outputs": [],
   "source": []
  }
 ],
 "metadata": {
  "kernelspec": {
   "display_name": "Python 3",
   "language": "python",
   "name": "python3"
  },
  "language_info": {
   "codemirror_mode": {
    "name": "ipython",
    "version": 3
   },
   "file_extension": ".py",
   "mimetype": "text/x-python",
   "name": "python",
   "nbconvert_exporter": "python",
   "pygments_lexer": "ipython3",
   "version": "3.8.5"
  }
 },
 "nbformat": 4,
 "nbformat_minor": 4
}
