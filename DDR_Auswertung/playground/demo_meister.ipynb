{
 "cells": [
  {
   "cell_type": "code",
   "execution_count": 7,
   "id": "b5c6c6e3-78ff-44ae-b02c-83ee2f47d696",
   "metadata": {},
   "outputs": [
    {
     "name": "stderr",
     "output_type": "stream",
     "text": [
      "Updating HTML index of packages in '.Library'\n",
      "\n",
      "Making 'packages.html' ...\n",
      " done\n",
      "\n"
     ]
    }
   ],
   "source": [
    "install.packages(\"readxl\")"
   ]
  },
  {
   "cell_type": "code",
   "execution_count": 2,
   "id": "40b1709e-4869-45df-8799-ba8bb157fade",
   "metadata": {},
   "outputs": [
    {
     "ename": "ERROR",
     "evalue": "Error in read_excel(\"DDR_Messdaten_1.xlsx\"): could not find function \"read_excel\"\n",
     "output_type": "error",
     "traceback": [
      "Error in read_excel(\"DDR_Messdaten_1.xlsx\"): could not find function \"read_excel\"\nTraceback:\n"
     ]
    }
   ],
   "source": [
    "read_excel(\"DDR_Messdaten_1.xlsx\")"
   ]
  },
  {
   "cell_type": "code",
   "execution_count": 2,
   "id": "4fd2b84c-e2b6-4fff-a2c8-ee35eeca62f5",
   "metadata": {},
   "outputs": [
    {
     "data": {
      "text/html": [
       "'/home/jovyan/janjoch/git/ppc_skripts_reports/DDR_Auswertung/playground'"
      ],
      "text/latex": [
       "'/home/jovyan/janjoch/git/ppc\\_skripts\\_reports/DDR\\_Auswertung/playground'"
      ],
      "text/markdown": [
       "'/home/jovyan/janjoch/git/ppc_skripts_reports/DDR_Auswertung/playground'"
      ],
      "text/plain": [
       "[1] \"/home/jovyan/janjoch/git/ppc_skripts_reports/DDR_Auswertung/playground\""
      ]
     },
     "metadata": {},
     "output_type": "display_data"
    }
   ],
   "source": [
    "getwd()"
   ]
  },
  {
   "cell_type": "code",
   "execution_count": 3,
   "id": "1a0722f7-655e-4e81-9c9d-acb842710360",
   "metadata": {},
   "outputs": [
    {
     "data": {
      "text/html": [
       "No documentation for ‘read_excel’ in specified packages and libraries:\n",
       "you could try ‘??read_excel’"
      ],
      "text/latex": [
       "No documentation for ‘read_excel’ in specified packages and libraries:\n",
       "you could try ‘??read_excel’"
      ],
      "text/plain": [
       "No documentation for ‘read_excel’ in specified packages and libraries:\n",
       "you could try ‘??read_excel’"
      ]
     },
     "metadata": {},
     "output_type": "display_data"
    }
   ],
   "source": [
    "?read_excel"
   ]
  },
  {
   "cell_type": "code",
   "execution_count": 7,
   "id": "6dd57c73-bb30-4a6b-b9b6-8710c83ded7d",
   "metadata": {},
   "outputs": [
    {
     "name": "stdout",
     "output_type": "stream",
     "text": [
      "[1] \"hello world\"\n"
     ]
    },
    {
     "data": {
      "text/html": [
       "3"
      ],
      "text/latex": [
       "3"
      ],
      "text/markdown": [
       "3"
      ],
      "text/plain": [
       "[1] 3"
      ]
     },
     "metadata": {},
     "output_type": "display_data"
    }
   ],
   "source": [
    "sink(file=\"test.txt\")\n",
    "\n",
    "print(\"hello world\")\n",
    "\n",
    "3\n",
    "\n",
    "sink()"
   ]
  },
  {
   "cell_type": "code",
   "execution_count": null,
   "id": "6df99879-6928-4482-8563-b194b5257277",
   "metadata": {},
   "outputs": [],
   "source": []
  },
  {
   "cell_type": "code",
   "execution_count": 8,
   "id": "6d5da3de-602f-4f78-8e0c-5f7f65860fc7",
   "metadata": {},
   "outputs": [
    {
     "data": {
      "text/html": [
       "1"
      ],
      "text/latex": [
       "1"
      ],
      "text/markdown": [
       "1"
      ],
      "text/plain": [
       "[1] 1"
      ]
     },
     "metadata": {},
     "output_type": "display_data"
    }
   ],
   "source": [
    "a = c(1,2,6,5,4,3,7,8,9)\n",
    "\n",
    "which.min(a)"
   ]
  },
  {
   "cell_type": "code",
   "execution_count": 9,
   "id": "4dccd7bc-cb4c-4354-8422-6a479d091b1e",
   "metadata": {},
   "outputs": [
    {
     "data": {
      "text/html": [
       "9"
      ],
      "text/latex": [
       "9"
      ],
      "text/markdown": [
       "9"
      ],
      "text/plain": [
       "[1] 9"
      ]
     },
     "metadata": {},
     "output_type": "display_data"
    }
   ],
   "source": [
    "which.max(a)"
   ]
  },
  {
   "cell_type": "code",
   "execution_count": 10,
   "id": "e9974a37-439c-4b5f-8a65-465fbc42cf3c",
   "metadata": {},
   "outputs": [
    {
     "data": {
      "text/html": [
       "<style>\n",
       ".list-inline {list-style: none; margin:0; padding: 0}\n",
       ".list-inline>li {display: inline-block}\n",
       ".list-inline>li:not(:last-child)::after {content: \"\\00b7\"; padding: 0 .5ex}\n",
       "</style>\n",
       "<ol class=list-inline><li>3</li><li>7</li><li>8</li><li>9</li></ol>\n"
      ],
      "text/latex": [
       "\\begin{enumerate*}\n",
       "\\item 3\n",
       "\\item 7\n",
       "\\item 8\n",
       "\\item 9\n",
       "\\end{enumerate*}\n"
      ],
      "text/markdown": [
       "1. 3\n",
       "2. 7\n",
       "3. 8\n",
       "4. 9\n",
       "\n",
       "\n"
      ],
      "text/plain": [
       "[1] 3 7 8 9"
      ]
     },
     "metadata": {},
     "output_type": "display_data"
    }
   ],
   "source": [
    "which(a > 5)"
   ]
  },
  {
   "cell_type": "code",
   "execution_count": null,
   "id": "e3759c55-b637-4570-937a-2bdc78ce1432",
   "metadata": {},
   "outputs": [],
   "source": []
  },
  {
   "cell_type": "markdown",
   "id": "a6e98151-b6a7-4914-aca3-05f39b19bfb3",
   "metadata": {},
   "source": [
    "### locator richtig nutzen in R-Studio"
   ]
  },
  {
   "cell_type": "code",
   "execution_count": null,
   "id": "c1ab55fc-bea3-44b1-87ca-b53bef03d53d",
   "metadata": {},
   "outputs": [],
   "source": [
    "# Problem: Grafikprobleme in R\n",
    "# fix:\n",
    "\n",
    "graphics.off()\n",
    "quartz()  # on macos\n",
    "windows()  # on windows\n",
    "x11()  # linux\n",
    "# => opens external graphics window"
   ]
  }
 ],
 "metadata": {
  "kernelspec": {
   "display_name": "R",
   "language": "R",
   "name": "ir"
  },
  "language_info": {
   "codemirror_mode": "r",
   "file_extension": ".r",
   "mimetype": "text/x-r-source",
   "name": "R",
   "pygments_lexer": "r",
   "version": "4.3.1"
  }
 },
 "nbformat": 4,
 "nbformat_minor": 5
}
