{
 "cells": [
  {
   "cell_type": "code",
   "execution_count": 1,
   "metadata": {},
   "outputs": [],
   "source": [
    "import importlib"
   ]
  },
  {
   "cell_type": "code",
   "execution_count": 8,
   "metadata": {},
   "outputs": [
    {
     "data": {
      "text/plain": [
       "<module 'metas_unclib' from '/Users/Janjo/opt/anaconda3/lib/python3.8/site-packages/metas_unclib/__init__.py'>"
      ]
     },
     "execution_count": 8,
     "metadata": {},
     "output_type": "execute_result"
    }
   ],
   "source": [
    "importlib.import_module(\"metas_unclib\")"
   ]
  },
  {
   "cell_type": "code",
   "execution_count": 9,
   "metadata": {},
   "outputs": [
    {
     "ename": "ImportError",
     "evalue": "cannot import name '_fromnetobject' from 'metas_unclib' (/Users/Janjo/opt/anaconda3/lib/python3.8/site-packages/metas_unclib/__init__.py)",
     "output_type": "error",
     "traceback": [
      "\u001b[0;31m---------------------------------------------------------------------------\u001b[0m",
      "\u001b[0;31mImportError\u001b[0m                               Traceback (most recent call last)",
      "\u001b[0;32m<ipython-input-9-fa95535a8d46>\u001b[0m in \u001b[0;36m<module>\u001b[0;34m\u001b[0m\n\u001b[0;32m----> 1\u001b[0;31m \u001b[0;32mfrom\u001b[0m \u001b[0mmetas_unclib\u001b[0m \u001b[0;32mimport\u001b[0m \u001b[0m_fromnetobject\u001b[0m\u001b[0;34m\u001b[0m\u001b[0;34m\u001b[0m\u001b[0m\n\u001b[0m",
      "\u001b[0;31mImportError\u001b[0m: cannot import name '_fromnetobject' from 'metas_unclib' (/Users/Janjo/opt/anaconda3/lib/python3.8/site-packages/metas_unclib/__init__.py)"
     ]
    }
   ],
   "source": [
    "from metas_unclib import _fromnetobject"
   ]
  },
  {
   "cell_type": "code",
   "execution_count": 5,
   "metadata": {},
   "outputs": [
    {
     "ename": "NameError",
     "evalue": "name 'metas_unclib' is not defined",
     "output_type": "error",
     "traceback": [
      "\u001b[0;31m---------------------------------------------------------------------------\u001b[0m",
      "\u001b[0;31mNameError\u001b[0m                                 Traceback (most recent call last)",
      "\u001b[0;32m<ipython-input-5-854f54ba2b95>\u001b[0m in \u001b[0;36m<module>\u001b[0;34m\u001b[0m\n\u001b[0;32m----> 1\u001b[0;31m \u001b[0mmetas_unclib\u001b[0m\u001b[0;34m.\u001b[0m\u001b[0m_fromnetobject\u001b[0m\u001b[0;34m\u001b[0m\u001b[0;34m\u001b[0m\u001b[0m\n\u001b[0m",
      "\u001b[0;31mNameError\u001b[0m: name 'metas_unclib' is not defined"
     ]
    }
   ],
   "source": [
    "metas_unclib._fromnetobject"
   ]
  },
  {
   "cell_type": "code",
   "execution_count": 3,
   "metadata": {},
   "outputs": [
    {
     "name": "stdout",
     "output_type": "stream",
     "text": [
      "Object `mu._fromnetobject` not found.\n"
     ]
    }
   ],
   "source": [
    "mu._fromnetobject?"
   ]
  },
  {
   "cell_type": "code",
   "execution_count": 6,
   "metadata": {},
   "outputs": [],
   "source": [
    "from Metas.UncLib.LinProp import UncBudget"
   ]
  },
  {
   "cell_type": "code",
   "execution_count": 10,
   "metadata": {},
   "outputs": [],
   "source": [
    "tree_unc_budget = UncBudget.ComputeTreeUncBudget(mu.ufloat(3.0, 0.3, desc='a').net_object)"
   ]
  },
  {
   "cell_type": "code",
   "execution_count": 11,
   "metadata": {},
   "outputs": [
    {
     "ename": "AttributeError",
     "evalue": "module 'metas_unclib' has no attribute '_fromnetobject'",
     "output_type": "error",
     "traceback": [
      "\u001b[0;31m---------------------------------------------------------------------------\u001b[0m",
      "\u001b[0;31mAttributeError\u001b[0m                            Traceback (most recent call last)",
      "\u001b[0;32m<ipython-input-11-cdd3fbbad646>\u001b[0m in \u001b[0;36m<module>\u001b[0;34m\u001b[0m\n\u001b[0;32m----> 1\u001b[0;31m \u001b[0mmu\u001b[0m\u001b[0;34m.\u001b[0m\u001b[0m_fromnetobject\u001b[0m\u001b[0;34m(\u001b[0m\u001b[0mtree_unc_budget\u001b[0m\u001b[0;34m)\u001b[0m\u001b[0;34m\u001b[0m\u001b[0;34m\u001b[0m\u001b[0m\n\u001b[0m",
      "\u001b[0;31mAttributeError\u001b[0m: module 'metas_unclib' has no attribute '_fromnetobject'"
     ]
    }
   ],
   "source": [
    "mu._fromnetobject(tree_unc_budget)"
   ]
  },
  {
   "cell_type": "code",
   "execution_count": 8,
   "metadata": {},
   "outputs": [
    {
     "ename": "AttributeError",
     "evalue": "'TreeUncBudgetItem[]' object has no attribute 'Distribution'",
     "output_type": "error",
     "traceback": [
      "\u001b[0;31m---------------------------------------------------------------------------\u001b[0m",
      "\u001b[0;31mAttributeError\u001b[0m                            Traceback (most recent call last)",
      "\u001b[0;32m<ipython-input-8-c4a29afefc26>\u001b[0m in \u001b[0;36m<module>\u001b[0;34m\u001b[0m\n\u001b[0;32m----> 1\u001b[0;31m \u001b[0mtree_unc_budget\u001b[0m\u001b[0;34m.\u001b[0m\u001b[0mDistribution\u001b[0m\u001b[0;34m\u001b[0m\u001b[0;34m\u001b[0m\u001b[0m\n\u001b[0m",
      "\u001b[0;31mAttributeError\u001b[0m: 'TreeUncBudgetItem[]' object has no attribute 'Distribution'"
     ]
    }
   ],
   "source": [
    "tree_unc_budget.Distribution"
   ]
  },
  {
   "cell_type": "code",
   "execution_count": 5,
   "metadata": {},
   "outputs": [
    {
     "data": {
      "text/plain": [
       "<Metas.UncLib.LinProp.TreeUncBudgetItem[] object at 0x7fecd1f37d80>"
      ]
     },
     "execution_count": 5,
     "metadata": {},
     "output_type": "execute_result"
    }
   ],
   "source": [
    "tree_unc_budget"
   ]
  },
  {
   "cell_type": "code",
   "execution_count": 6,
   "metadata": {},
   "outputs": [
    {
     "data": {
      "text/plain": [
       "['Address',\n",
       " 'AsReadOnly',\n",
       " 'BinarySearch',\n",
       " 'Clear',\n",
       " 'Clone',\n",
       " 'ConstrainedCopy',\n",
       " 'ConvertAll',\n",
       " 'Copy',\n",
       " 'CopyTo',\n",
       " 'CreateInstance',\n",
       " 'Empty',\n",
       " 'Equals',\n",
       " 'Exists',\n",
       " 'Fill',\n",
       " 'Finalize',\n",
       " 'Find',\n",
       " 'FindAll',\n",
       " 'FindIndex',\n",
       " 'FindLast',\n",
       " 'FindLastIndex',\n",
       " 'ForEach',\n",
       " 'Get',\n",
       " 'GetEnumerator',\n",
       " 'GetHashCode',\n",
       " 'GetLength',\n",
       " 'GetLongLength',\n",
       " 'GetLowerBound',\n",
       " 'GetType',\n",
       " 'GetUpperBound',\n",
       " 'GetValue',\n",
       " 'IndexOf',\n",
       " 'Initialize',\n",
       " 'IsFixedSize',\n",
       " 'IsReadOnly',\n",
       " 'IsSynchronized',\n",
       " 'LastIndexOf',\n",
       " 'Length',\n",
       " 'LongLength',\n",
       " 'MemberwiseClone',\n",
       " 'Overloads',\n",
       " 'Rank',\n",
       " 'ReferenceEquals',\n",
       " 'Resize',\n",
       " 'Reverse',\n",
       " 'Set',\n",
       " 'SetValue',\n",
       " 'Sort',\n",
       " 'SyncRoot',\n",
       " 'ToString',\n",
       " 'TrueForAll',\n",
       " '__abstractmethods__',\n",
       " '__class__',\n",
       " '__contains__',\n",
       " '__delattr__',\n",
       " '__delitem__',\n",
       " '__dict__',\n",
       " '__dir__',\n",
       " '__doc__',\n",
       " '__eq__',\n",
       " '__format__',\n",
       " '__ge__',\n",
       " '__getattribute__',\n",
       " '__getitem__',\n",
       " '__gt__',\n",
       " '__hash__',\n",
       " '__iadd__',\n",
       " '__init__',\n",
       " '__init_subclass__',\n",
       " '__iter__',\n",
       " '__le__',\n",
       " '__len__',\n",
       " '__lt__',\n",
       " '__module__',\n",
       " '__ne__',\n",
       " '__new__',\n",
       " '__overloads__',\n",
       " '__reduce__',\n",
       " '__reduce_ex__',\n",
       " '__repr__',\n",
       " '__reversed__',\n",
       " '__setattr__',\n",
       " '__setitem__',\n",
       " '__sizeof__',\n",
       " '__slots__',\n",
       " '__str__',\n",
       " '__subclasshook__',\n",
       " '__weakref__',\n",
       " '_abc_impl',\n",
       " 'append',\n",
       " 'clear',\n",
       " 'count',\n",
       " 'extend',\n",
       " 'get_IsFixedSize',\n",
       " 'get_IsReadOnly',\n",
       " 'get_IsSynchronized',\n",
       " 'get_Length',\n",
       " 'get_LongLength',\n",
       " 'get_Rank',\n",
       " 'get_SyncRoot',\n",
       " 'index',\n",
       " 'insert',\n",
       " 'pop',\n",
       " 'remove',\n",
       " 'reverse']"
      ]
     },
     "execution_count": 6,
     "metadata": {},
     "output_type": "execute_result"
    }
   ],
   "source": [
    "dir(tree_unc_budget)"
   ]
  },
  {
   "cell_type": "code",
   "execution_count": 9,
   "metadata": {},
   "outputs": [
    {
     "name": "stdout",
     "output_type": "stream",
     "text": [
      "Object `_fromnetobject` not found.\n"
     ]
    }
   ],
   "source": [
    "_fromnetobject?"
   ]
  },
  {
   "cell_type": "code",
   "execution_count": null,
   "metadata": {},
   "outputs": [],
   "source": []
  }
 ],
 "metadata": {
  "kernelspec": {
   "display_name": "Python 3",
   "language": "python",
   "name": "python3"
  },
  "language_info": {
   "codemirror_mode": {
    "name": "ipython",
    "version": 3
   },
   "file_extension": ".py",
   "mimetype": "text/x-python",
   "name": "python",
   "nbconvert_exporter": "python",
   "pygments_lexer": "ipython3",
   "version": "3.8.5"
  }
 },
 "nbformat": 4,
 "nbformat_minor": 4
}
