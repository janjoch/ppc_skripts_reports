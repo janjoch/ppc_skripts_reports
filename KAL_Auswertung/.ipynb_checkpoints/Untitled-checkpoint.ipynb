{
 "cells": [
  {
   "cell_type": "code",
   "execution_count": 16,
   "id": "republican-running",
   "metadata": {},
   "outputs": [],
   "source": [
    "from metas_unclib import *\n",
    "use_linprop()"
   ]
  },
  {
   "cell_type": "code",
   "execution_count": 43,
   "id": "stone-balloon",
   "metadata": {},
   "outputs": [],
   "source": [
    "acet_M = 60.05  # g/mol"
   ]
  },
  {
   "cell_type": "markdown",
   "id": "hourly-bracket",
   "metadata": {},
   "source": [
    "### Continuous Titration"
   ]
  },
  {
   "cell_type": "code",
   "execution_count": 31,
   "id": "featured-orchestra",
   "metadata": {},
   "outputs": [],
   "source": [
    "t_cont = ufloat(93.18907, 0.106)"
   ]
  },
  {
   "cell_type": "code",
   "execution_count": 32,
   "id": "proud-bridges",
   "metadata": {},
   "outputs": [
    {
     "data": {
      "text/plain": [
       "0.00022222222222222223"
      ]
     },
     "execution_count": 32,
     "metadata": {},
     "output_type": "execute_result"
    }
   ],
   "source": [
    "c_cont = 1  # M\n",
    "V_flow_cont = 0.04 / 3 / 60  # L/s\n",
    "\n",
    "n_flow_cont = c_cont * V_flow_cont\n",
    "n_flow_cont"
   ]
  },
  {
   "cell_type": "code",
   "execution_count": 33,
   "id": "cleared-frank",
   "metadata": {},
   "outputs": [
    {
     "data": {
      "text/plain": [
       "0.04"
      ]
     },
     "execution_count": 33,
     "metadata": {},
     "output_type": "execute_result"
    }
   ],
   "source": [
    "# check: 3 min should yield 0.04 mol\n",
    "n_flow_cont * 60 * 3"
   ]
  },
  {
   "cell_type": "code",
   "execution_count": 34,
   "id": "cooked-touch",
   "metadata": {},
   "outputs": [
    {
     "data": {
      "text/plain": [
       "20.708682222222222 ± 0.023555555555555555"
      ]
     },
     "execution_count": 34,
     "metadata": {},
     "output_type": "execute_result"
    }
   ],
   "source": [
    "n_cont = n_flow_cont * t_cont\n",
    "n_cont * 1000 # mmol"
   ]
  },
  {
   "cell_type": "code",
   "execution_count": 42,
   "id": "injured-cyprus",
   "metadata": {},
   "outputs": [
    {
     "data": {
      "text/plain": [
       "0.8283472888888889 ± 0.0009422222222222222"
      ]
     },
     "execution_count": 42,
     "metadata": {},
     "output_type": "execute_result"
    }
   ],
   "source": [
    "c_cont = n_cont / 0.025\n",
    "c_cont  # M"
   ]
  },
  {
   "cell_type": "markdown",
   "id": "beginning-consumer",
   "metadata": {},
   "source": [
    "### Stepwise titration"
   ]
  },
  {
   "cell_type": "code",
   "execution_count": 35,
   "id": "deluxe-wesley",
   "metadata": {},
   "outputs": [],
   "source": [
    "t_uncont = ufloat(210.5468, 2.48)"
   ]
  },
  {
   "cell_type": "code",
   "execution_count": 36,
   "id": "ranging-response",
   "metadata": {},
   "outputs": [
    {
     "data": {
      "text/plain": [
       "0.0001"
      ]
     },
     "execution_count": 36,
     "metadata": {},
     "output_type": "execute_result"
    }
   ],
   "source": [
    "c_uncont = 1  # M\n",
    "V_flow_uncont = 0.002 / 20  # L/s\n",
    "\n",
    "n_flow_uncont = c_uncont * V_flow_uncont\n",
    "n_flow_uncont"
   ]
  },
  {
   "cell_type": "code",
   "execution_count": 37,
   "id": "lightweight-answer",
   "metadata": {},
   "outputs": [
    {
     "data": {
      "text/plain": [
       "0.018000000000000002"
      ]
     },
     "execution_count": 37,
     "metadata": {},
     "output_type": "execute_result"
    }
   ],
   "source": [
    "# check: 3 min should yield 0.04 mol\n",
    "n_flow_uncont * 60 * 3"
   ]
  },
  {
   "cell_type": "code",
   "execution_count": 38,
   "id": "african-couple",
   "metadata": {},
   "outputs": [
    {
     "data": {
      "text/plain": [
       "21.054679999999998 ± 0.248"
      ]
     },
     "execution_count": 38,
     "metadata": {},
     "output_type": "execute_result"
    }
   ],
   "source": [
    "n_uncont = n_flow_uncont * t_uncont\n",
    "n_uncont * 1000"
   ]
  },
  {
   "cell_type": "code",
   "execution_count": 41,
   "id": "juvenile-funeral",
   "metadata": {},
   "outputs": [
    {
     "data": {
      "text/plain": [
       "0.8421871999999999 ± 0.00992"
      ]
     },
     "execution_count": 41,
     "metadata": {},
     "output_type": "execute_result"
    }
   ],
   "source": [
    "c_uncont = n_uncont / 0.025\n",
    "c_uncont  # M"
   ]
  },
  {
   "cell_type": "code",
   "execution_count": null,
   "id": "progressive-direction",
   "metadata": {},
   "outputs": [],
   "source": []
  }
 ],
 "metadata": {
  "kernelspec": {
   "display_name": "Python 3",
   "language": "python",
   "name": "python3"
  },
  "language_info": {
   "codemirror_mode": {
    "name": "ipython",
    "version": 3
   },
   "file_extension": ".py",
   "mimetype": "text/x-python",
   "name": "python",
   "nbconvert_exporter": "python",
   "pygments_lexer": "ipython3",
   "version": "3.7.9"
  }
 },
 "nbformat": 4,
 "nbformat_minor": 5
}
