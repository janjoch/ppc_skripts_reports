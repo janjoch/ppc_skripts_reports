{
 "cells": [
  {
   "cell_type": "code",
   "execution_count": 58,
   "metadata": {},
   "outputs": [],
   "source": [
    "from metas_unclib.metas_unclib import _fromnetobject, _asnetobject, _asunclist, _UncHelper, _fromnetnarray, _asnetnarray"
   ]
  },
  {
   "cell_type": "code",
   "execution_count": 44,
   "metadata": {},
   "outputs": [],
   "source": [
    "from Metas.UncLib.LinProp import UncBudget, FlatUncBudgetItem, TreeUncBudgetItem"
   ]
  },
  {
   "cell_type": "code",
   "execution_count": 19,
   "metadata": {},
   "outputs": [
    {
     "data": {
      "text/plain": [
       "3.0 ± 0.4"
      ]
     },
     "execution_count": 19,
     "metadata": {},
     "output_type": "execute_result"
    }
   ],
   "source": [
    "a = ufloat(3, 0.4, desc=\"a\")\n",
    "a"
   ]
  },
  {
   "cell_type": "code",
   "execution_count": 80,
   "metadata": {},
   "outputs": [],
   "source": [
    "b = ufloat(7, 0.0003, desc=\"b\")"
   ]
  },
  {
   "cell_type": "code",
   "execution_count": 81,
   "metadata": {},
   "outputs": [
    {
     "data": {
      "text/plain": [
       "0.42857142857142855 ± 0.057142860094752106"
      ]
     },
     "execution_count": 81,
     "metadata": {},
     "output_type": "execute_result"
    }
   ],
   "source": [
    "c = a / b\n",
    "c"
   ]
  },
  {
   "cell_type": "code",
   "execution_count": 105,
   "metadata": {},
   "outputs": [
    {
     "data": {
      "text/plain": [
       "3.22 ± 0.45108665354542615"
      ]
     },
     "execution_count": 105,
     "metadata": {},
     "output_type": "execute_result"
    }
   ],
   "source": [
    "d = ufloatfromsamples(\n",
    "    (2.3,3.2,4.3,3.2,3.1),\n",
    "    desc=\"d from samples\"\n",
    ")\n",
    "d"
   ]
  },
  {
   "cell_type": "code",
   "execution_count": 111,
   "metadata": {},
   "outputs": [
    {
     "data": {
      "text/plain": [
       "2.0 ± 1e-05"
      ]
     },
     "execution_count": 111,
     "metadata": {},
     "output_type": "execute_result"
    }
   ],
   "source": [
    "e = ufloat(\n",
    "    2,\n",
    "    0.00001,\n",
    "    desc=\"constant\"\n",
    ")\n",
    "e"
   ]
  },
  {
   "cell_type": "code",
   "execution_count": 117,
   "metadata": {},
   "outputs": [
    {
     "data": {
      "text/plain": [
       "4.0 ± 2.14"
      ]
     },
     "execution_count": 117,
     "metadata": {},
     "output_type": "execute_result"
    }
   ],
   "source": [
    "u = ufloat(4,2.14)\n",
    "u"
   ]
  },
  {
   "cell_type": "code",
   "execution_count": 118,
   "metadata": {},
   "outputs": [
    {
     "data": {
      "text/plain": [
       "0.6301260185104192 ± 2.3290114619208846"
      ]
     },
     "execution_count": 118,
     "metadata": {},
     "output_type": "execute_result"
    }
   ],
   "source": [
    "f = (umath.exp(c) - d) * e + u\n",
    "f"
   ]
  },
  {
   "cell_type": "code",
   "execution_count": null,
   "metadata": {},
   "outputs": [],
   "source": []
  },
  {
   "cell_type": "code",
   "execution_count": 149,
   "metadata": {},
   "outputs": [],
   "source": [
    "import pandas as pd\n",
    "\n",
    "import itables\n",
    "\n",
    "itables.init_notebook_mode(all_interactive=True)"
   ]
  },
  {
   "cell_type": "code",
   "execution_count": 142,
   "metadata": {},
   "outputs": [],
   "source": [
    "df = pd.DataFrame(columns=(\"bla\", \"blubb\"), index=range(4))\n",
    "df.loc[2] = (5, 6)"
   ]
  },
  {
   "cell_type": "code",
   "execution_count": 143,
   "metadata": {},
   "outputs": [
    {
     "data": {
      "text/html": [
       "<div>\n",
       "<style scoped>\n",
       "    .dataframe tbody tr th:only-of-type {\n",
       "        vertical-align: middle;\n",
       "    }\n",
       "\n",
       "    .dataframe tbody tr th {\n",
       "        vertical-align: top;\n",
       "    }\n",
       "\n",
       "    .dataframe thead th {\n",
       "        text-align: right;\n",
       "    }\n",
       "</style>\n",
       "<table border=\"1\" class=\"dataframe\">\n",
       "  <thead>\n",
       "    <tr style=\"text-align: right;\">\n",
       "      <th></th>\n",
       "      <th>bla</th>\n",
       "      <th>blubb</th>\n",
       "    </tr>\n",
       "  </thead>\n",
       "  <tbody>\n",
       "    <tr>\n",
       "      <th>0</th>\n",
       "      <td>NaN</td>\n",
       "      <td>NaN</td>\n",
       "    </tr>\n",
       "    <tr>\n",
       "      <th>1</th>\n",
       "      <td>NaN</td>\n",
       "      <td>NaN</td>\n",
       "    </tr>\n",
       "    <tr>\n",
       "      <th>2</th>\n",
       "      <td>5</td>\n",
       "      <td>6</td>\n",
       "    </tr>\n",
       "    <tr>\n",
       "      <th>3</th>\n",
       "      <td>NaN</td>\n",
       "      <td>NaN</td>\n",
       "    </tr>\n",
       "  </tbody>\n",
       "</table>\n",
       "</div>"
      ],
      "text/plain": [
       "   bla blubb\n",
       "0  NaN   NaN\n",
       "1  NaN   NaN\n",
       "2    5     6\n",
       "3  NaN   NaN"
      ]
     },
     "execution_count": 143,
     "metadata": {},
     "output_type": "execute_result"
    }
   ],
   "source": [
    "df"
   ]
  },
  {
   "cell_type": "code",
   "execution_count": 160,
   "metadata": {},
   "outputs": [],
   "source": [
    "def unc_budget(unc_item, show_table=True):\n",
    "    tree = UncBudget.ComputeTreeUncBudget(unc_item.net_object)\n",
    "\n",
    "    table = pd.DataFrame(\n",
    "        columns=(\"description\", \"uncertainty component\", \"uncertainty percentage\"),\n",
    "        index=range(len(tree)+1)\n",
    "    )\n",
    "\n",
    "    for i, elem in enumerate(tree):\n",
    "        #print(element)\n",
    "        table.loc[i] = (\n",
    "            elem.get_Description(),\n",
    "            elem.get_UncComponent(),\n",
    "            elem.get_UncPercentage(),\n",
    "        )\n",
    "    table.loc[len(tree)] = (\n",
    "        \"SUMMARY\",\n",
    "        unc_item.stdunc,\n",
    "        100.,        \n",
    "    )\n",
    "    \n",
    "    return table.sort_values(\"uncertainty percentage\", ascending=False)"
   ]
  },
  {
   "cell_type": "code",
   "execution_count": 158,
   "metadata": {},
   "outputs": [],
   "source": [
    "df = unc_budget(f)"
   ]
  },
  {
   "cell_type": "code",
   "execution_count": 159,
   "metadata": {},
   "outputs": [
    {
     "data": {
      "text/html": [
       "<style>.itables table td {\n",
       "    text-overflow: ellipsis;\n",
       "    overflow: hidden;\n",
       "}\n",
       "\n",
       ".itables table th {\n",
       "    text-overflow: ellipsis;\n",
       "    overflow: hidden;\n",
       "}\n",
       "\n",
       ".itables thead input {\n",
       "    width: 100%;\n",
       "    padding: 3px;\n",
       "    box-sizing: border-box;\n",
       "}\n",
       "\n",
       ".itables tfoot input {\n",
       "    width: 100%;\n",
       "    padding: 3px;\n",
       "    box-sizing: border-box;\n",
       "}\n",
       "</style>\n",
       "<div class=\"itables\">\n",
       "<table id=\"31fe5d55-0cbe-4b16-b8bb-ca3e43eec77d\" class=\"display nowrap\"style=\"table-layout:auto;width:auto;margin:auto;caption-side:bottom\"><thead>\n",
       "    <tr style=\"text-align: right;\">\n",
       "      \n",
       "      <th>description</th>\n",
       "      <th>unc component</th>\n",
       "      <th>unc percentage</th>\n",
       "    </tr>\n",
       "  </thead><tbody><tr><td>Loading... (need <a href=https://mwouts.github.io/itables/troubleshooting.html>help</a>?)</td></tr></tbody></table>\n",
       "<script>\n",
       "    // We use a namespace per table (= the next curly bracket)\n",
       "    // to avoid conflicts between the various tables' data & dt_args\n",
       "    {\n",
       "        // Define the table data\n",
       "        const data = [[\"a\", \" 0.175436\", \" 0.567405\"], [\"b\", \" 0.000056\", \" 0.0\"], [\"constant\", \" 0.000017\", \" 0.0\"], [\"d from samples\", \" 0.902173\", \" 15.005024\"], [\"Unknown Id\", \" 2.14\", \" 84.427571\"]];\n",
       "        // Display the table\n",
       "        $(document).ready(function () {\n",
       "            window.dataTablePromise.then(() => {\n",
       "                // Define the dt_args\n",
       "                let dt_args = {\"order\": [], \"dom\": \"t\"};\n",
       "                dt_args[\"data\"] = data;\n",
       "\n",
       "                \n",
       "                $('#31fe5d55-0cbe-4b16-b8bb-ca3e43eec77d').DataTable(dt_args);\n",
       "            });\n",
       "        })\n",
       "    }\n",
       "</script>\n",
       "</div>\n"
      ],
      "text/plain": [
       "      description unc component unc percentage\n",
       "0               a      0.175436       0.567405\n",
       "1               b      0.000056            0.0\n",
       "2        constant      0.000017            0.0\n",
       "3  d from samples      0.902173      15.005024\n",
       "4      Unknown Id          2.14      84.427571"
      ]
     },
     "execution_count": 159,
     "metadata": {},
     "output_type": "execute_result"
    }
   ],
   "source": [
    "df"
   ]
  },
  {
   "cell_type": "code",
   "execution_count": null,
   "metadata": {},
   "outputs": [],
   "source": []
  },
  {
   "cell_type": "code",
   "execution_count": null,
   "metadata": {},
   "outputs": [],
   "source": []
  },
  {
   "cell_type": "code",
   "execution_count": 126,
   "metadata": {},
   "outputs": [
    {
     "data": {
      "text/plain": [
       "0"
      ]
     },
     "execution_count": 126,
     "metadata": {},
     "output_type": "execute_result"
    }
   ],
   "source": [
    "len(tree[0].get_SubItems())"
   ]
  },
  {
   "cell_type": "code",
   "execution_count": 120,
   "metadata": {},
   "outputs": [
    {
     "data": {
      "text/plain": [
       "['Description',\n",
       " 'Distribution',\n",
       " 'Dof',\n",
       " 'Equals',\n",
       " 'Finalize',\n",
       " 'GetHashCode',\n",
       " 'GetType',\n",
       " 'ID',\n",
       " 'InputStdUnc',\n",
       " 'InputValue',\n",
       " 'MemberwiseClone',\n",
       " 'Overloads',\n",
       " 'ReferenceEquals',\n",
       " 'Sensitivity',\n",
       " 'ShortDescription',\n",
       " 'SubItems',\n",
       " 'ToString',\n",
       " 'UncComponent',\n",
       " 'UncPercentage',\n",
       " '__class__',\n",
       " '__delattr__',\n",
       " '__dir__',\n",
       " '__doc__',\n",
       " '__eq__',\n",
       " '__format__',\n",
       " '__ge__',\n",
       " '__getattribute__',\n",
       " '__gt__',\n",
       " '__hash__',\n",
       " '__init__',\n",
       " '__init_subclass__',\n",
       " '__le__',\n",
       " '__lt__',\n",
       " '__module__',\n",
       " '__ne__',\n",
       " '__new__',\n",
       " '__overloads__',\n",
       " '__reduce__',\n",
       " '__reduce_ex__',\n",
       " '__repr__',\n",
       " '__setattr__',\n",
       " '__sizeof__',\n",
       " '__str__',\n",
       " '__subclasshook__',\n",
       " 'get_Description',\n",
       " 'get_Distribution',\n",
       " 'get_Dof',\n",
       " 'get_ID',\n",
       " 'get_InputStdUnc',\n",
       " 'get_InputValue',\n",
       " 'get_Sensitivity',\n",
       " 'get_ShortDescription',\n",
       " 'get_SubItems',\n",
       " 'get_UncComponent',\n",
       " 'get_UncPercentage',\n",
       " 'set_Description',\n",
       " 'set_Distribution',\n",
       " 'set_Dof',\n",
       " 'set_ID',\n",
       " 'set_InputStdUnc',\n",
       " 'set_InputValue',\n",
       " 'set_Sensitivity',\n",
       " 'set_ShortDescription',\n",
       " 'set_SubItems',\n",
       " 'set_UncComponent',\n",
       " 'set_UncPercentage']"
      ]
     },
     "execution_count": 120,
     "metadata": {},
     "output_type": "execute_result"
    }
   ],
   "source": [
    "dir(tree[0])"
   ]
  },
  {
   "cell_type": "code",
   "execution_count": null,
   "metadata": {},
   "outputs": [],
   "source": []
  },
  {
   "cell_type": "code",
   "execution_count": null,
   "metadata": {},
   "outputs": [],
   "source": []
  },
  {
   "cell_type": "code",
   "execution_count": 23,
   "metadata": {},
   "outputs": [
    {
     "data": {
      "text/plain": [
       "<bound method 'Equals'>"
      ]
     },
     "execution_count": 23,
     "metadata": {},
     "output_type": "execute_result"
    }
   ],
   "source": [
    "UncBudget.ComputeTreeUncBudget(a.net_object)"
   ]
  },
  {
   "cell_type": "code",
   "execution_count": 38,
   "metadata": {
    "scrolled": false
   },
   "outputs": [
    {
     "data": {
      "text/plain": [
       "0.4"
      ]
     },
     "execution_count": 38,
     "metadata": {},
     "output_type": "execute_result"
    }
   ],
   "source": [
    "_fromnetobject(_UncHelper.GetStdUnc(a.net_object))"
   ]
  },
  {
   "cell_type": "code",
   "execution_count": 37,
   "metadata": {},
   "outputs": [
    {
     "ename": "Exception",
     "evalue": "Unknown arguments",
     "output_type": "error",
     "traceback": [
      "\u001b[0;31m---------------------------------------------------------------------------\u001b[0m",
      "\u001b[0;31mException\u001b[0m                                 Traceback (most recent call last)",
      "\u001b[0;32m<ipython-input-37-342be3cf8655>\u001b[0m in \u001b[0;36m<module>\u001b[0;34m\u001b[0m\n\u001b[0;32m----> 1\u001b[0;31m \u001b[0m_fromnetobject\u001b[0m\u001b[0;34m(\u001b[0m\u001b[0mget_value\u001b[0m\u001b[0;34m(\u001b[0m\u001b[0mUncBudget\u001b[0m\u001b[0;34m.\u001b[0m\u001b[0mComputeFlatUncBudget\u001b[0m\u001b[0;34m(\u001b[0m\u001b[0ma\u001b[0m\u001b[0;34m.\u001b[0m\u001b[0mnet_object\u001b[0m\u001b[0;34m)\u001b[0m\u001b[0;34m)\u001b[0m\u001b[0;34m)\u001b[0m\u001b[0;34m\u001b[0m\u001b[0;34m\u001b[0m\u001b[0m\n\u001b[0m",
      "\u001b[0;32m~/opt/anaconda3/lib/python3.8/site-packages/metas_unclib/metas_unclib.py\u001b[0m in \u001b[0;36mget_value\u001b[0;34m(a)\u001b[0m\n\u001b[1;32m    336\u001b[0m \u001b[0;34m\u001b[0m\u001b[0m\n\u001b[1;32m    337\u001b[0m \u001b[0;32mdef\u001b[0m \u001b[0mget_value\u001b[0m\u001b[0;34m(\u001b[0m\u001b[0ma\u001b[0m\u001b[0;34m)\u001b[0m\u001b[0;34m:\u001b[0m\u001b[0;34m\u001b[0m\u001b[0;34m\u001b[0m\u001b[0m\n\u001b[0;32m--> 338\u001b[0;31m         \u001b[0;32mreturn\u001b[0m \u001b[0m_fromnetobject\u001b[0m\u001b[0;34m(\u001b[0m\u001b[0m_UncHelper\u001b[0m\u001b[0;34m.\u001b[0m\u001b[0mGetValue\u001b[0m\u001b[0;34m(\u001b[0m\u001b[0m_asnetobject\u001b[0m\u001b[0;34m(\u001b[0m\u001b[0ma\u001b[0m\u001b[0;34m)\u001b[0m\u001b[0;34m)\u001b[0m\u001b[0;34m)\u001b[0m\u001b[0;34m\u001b[0m\u001b[0;34m\u001b[0m\u001b[0m\n\u001b[0m\u001b[1;32m    339\u001b[0m \u001b[0;34m\u001b[0m\u001b[0m\n\u001b[1;32m    340\u001b[0m \u001b[0;32mdef\u001b[0m \u001b[0mget_fcn_value\u001b[0m\u001b[0;34m(\u001b[0m\u001b[0ma\u001b[0m\u001b[0;34m)\u001b[0m\u001b[0;34m:\u001b[0m\u001b[0;34m\u001b[0m\u001b[0;34m\u001b[0m\u001b[0m\n",
      "\u001b[0;32m~/opt/anaconda3/lib/python3.8/site-packages/metas_unclib/metas_unclib.py\u001b[0m in \u001b[0;36m_asnetobject\u001b[0;34m(a, forcecomplex)\u001b[0m\n\u001b[1;32m    133\u001b[0m                 \u001b[0mb\u001b[0m \u001b[0;34m=\u001b[0m \u001b[0mucomplex\u001b[0m\u001b[0;34m(\u001b[0m\u001b[0ma\u001b[0m\u001b[0;34m)\u001b[0m\u001b[0;34m.\u001b[0m\u001b[0mnet_object\u001b[0m\u001b[0;34m\u001b[0m\u001b[0;34m\u001b[0m\u001b[0m\n\u001b[1;32m    134\u001b[0m         \u001b[0;32melse\u001b[0m\u001b[0;34m:\u001b[0m\u001b[0;34m\u001b[0m\u001b[0;34m\u001b[0m\u001b[0m\n\u001b[0;32m--> 135\u001b[0;31m                 \u001b[0mb\u001b[0m \u001b[0;34m=\u001b[0m \u001b[0m_asnetnarray\u001b[0m\u001b[0;34m(\u001b[0m\u001b[0ma\u001b[0m\u001b[0;34m,\u001b[0m \u001b[0mforcecomplex\u001b[0m\u001b[0;34m)\u001b[0m\u001b[0;34m\u001b[0m\u001b[0;34m\u001b[0m\u001b[0m\n\u001b[0m\u001b[1;32m    136\u001b[0m         \u001b[0;32mreturn\u001b[0m \u001b[0mb\u001b[0m\u001b[0;34m\u001b[0m\u001b[0;34m\u001b[0m\u001b[0m\n\u001b[1;32m    137\u001b[0m \u001b[0;34m\u001b[0m\u001b[0m\n",
      "\u001b[0;32m~/opt/anaconda3/lib/python3.8/site-packages/metas_unclib/metas_unclib.py\u001b[0m in \u001b[0;36m_asnetnarray\u001b[0;34m(a, complexarray)\u001b[0m\n\u001b[1;32m    162\u001b[0m                 \u001b[0md\u001b[0m \u001b[0;34m=\u001b[0m \u001b[0m_ComplexNArray\u001b[0m\u001b[0;34m[\u001b[0m\u001b[0m_UncNumber\u001b[0m\u001b[0;34m]\u001b[0m\u001b[0;34m(\u001b[0m\u001b[0;34m)\u001b[0m\u001b[0;34m\u001b[0m\u001b[0;34m\u001b[0m\u001b[0m\n\u001b[1;32m    163\u001b[0m         \u001b[0;32melse\u001b[0m\u001b[0;34m:\u001b[0m\u001b[0;34m\u001b[0m\u001b[0;34m\u001b[0m\u001b[0m\n\u001b[0;32m--> 164\u001b[0;31m                 \u001b[0mc\u001b[0m \u001b[0;34m=\u001b[0m \u001b[0;34m[\u001b[0m\u001b[0mufloat\u001b[0m\u001b[0;34m(\u001b[0m\u001b[0mbi\u001b[0m\u001b[0;34m)\u001b[0m\u001b[0;34m.\u001b[0m\u001b[0mnet_object\u001b[0m \u001b[0;32mfor\u001b[0m \u001b[0mbi\u001b[0m \u001b[0;32min\u001b[0m \u001b[0mb\u001b[0m\u001b[0;34m.\u001b[0m\u001b[0mflatten\u001b[0m\u001b[0;34m(\u001b[0m\u001b[0;34m'F'\u001b[0m\u001b[0;34m)\u001b[0m\u001b[0;34m]\u001b[0m\u001b[0;34m\u001b[0m\u001b[0;34m\u001b[0m\u001b[0m\n\u001b[0m\u001b[1;32m    165\u001b[0m                 \u001b[0md\u001b[0m \u001b[0;34m=\u001b[0m \u001b[0m_RealNArray\u001b[0m\u001b[0;34m[\u001b[0m\u001b[0m_UncNumber\u001b[0m\u001b[0;34m]\u001b[0m\u001b[0;34m(\u001b[0m\u001b[0;34m)\u001b[0m\u001b[0;34m\u001b[0m\u001b[0;34m\u001b[0m\u001b[0m\n\u001b[1;32m    166\u001b[0m         \u001b[0md\u001b[0m\u001b[0;34m.\u001b[0m\u001b[0mInit1dData\u001b[0m\u001b[0;34m(\u001b[0m\u001b[0mc\u001b[0m\u001b[0;34m,\u001b[0m \u001b[0;32mFalse\u001b[0m\u001b[0;34m)\u001b[0m\u001b[0;34m\u001b[0m\u001b[0;34m\u001b[0m\u001b[0m\n",
      "\u001b[0;32m~/opt/anaconda3/lib/python3.8/site-packages/metas_unclib/metas_unclib.py\u001b[0m in \u001b[0;36m<listcomp>\u001b[0;34m(.0)\u001b[0m\n\u001b[1;32m    162\u001b[0m                 \u001b[0md\u001b[0m \u001b[0;34m=\u001b[0m \u001b[0m_ComplexNArray\u001b[0m\u001b[0;34m[\u001b[0m\u001b[0m_UncNumber\u001b[0m\u001b[0;34m]\u001b[0m\u001b[0;34m(\u001b[0m\u001b[0;34m)\u001b[0m\u001b[0;34m\u001b[0m\u001b[0;34m\u001b[0m\u001b[0m\n\u001b[1;32m    163\u001b[0m         \u001b[0;32melse\u001b[0m\u001b[0;34m:\u001b[0m\u001b[0;34m\u001b[0m\u001b[0;34m\u001b[0m\u001b[0m\n\u001b[0;32m--> 164\u001b[0;31m                 \u001b[0mc\u001b[0m \u001b[0;34m=\u001b[0m \u001b[0;34m[\u001b[0m\u001b[0mufloat\u001b[0m\u001b[0;34m(\u001b[0m\u001b[0mbi\u001b[0m\u001b[0;34m)\u001b[0m\u001b[0;34m.\u001b[0m\u001b[0mnet_object\u001b[0m \u001b[0;32mfor\u001b[0m \u001b[0mbi\u001b[0m \u001b[0;32min\u001b[0m \u001b[0mb\u001b[0m\u001b[0;34m.\u001b[0m\u001b[0mflatten\u001b[0m\u001b[0;34m(\u001b[0m\u001b[0;34m'F'\u001b[0m\u001b[0;34m)\u001b[0m\u001b[0;34m]\u001b[0m\u001b[0;34m\u001b[0m\u001b[0;34m\u001b[0m\u001b[0m\n\u001b[0m\u001b[1;32m    165\u001b[0m                 \u001b[0md\u001b[0m \u001b[0;34m=\u001b[0m \u001b[0m_RealNArray\u001b[0m\u001b[0;34m[\u001b[0m\u001b[0m_UncNumber\u001b[0m\u001b[0;34m]\u001b[0m\u001b[0;34m(\u001b[0m\u001b[0;34m)\u001b[0m\u001b[0;34m\u001b[0m\u001b[0;34m\u001b[0m\u001b[0m\n\u001b[1;32m    166\u001b[0m         \u001b[0md\u001b[0m\u001b[0;34m.\u001b[0m\u001b[0mInit1dData\u001b[0m\u001b[0;34m(\u001b[0m\u001b[0mc\u001b[0m\u001b[0;34m,\u001b[0m \u001b[0;32mFalse\u001b[0m\u001b[0;34m)\u001b[0m\u001b[0;34m\u001b[0m\u001b[0;34m\u001b[0m\u001b[0m\n",
      "\u001b[0;32m~/opt/anaconda3/lib/python3.8/site-packages/metas_unclib/metas_unclib.py\u001b[0m in \u001b[0;36m__init__\u001b[0;34m(self, value, stdunc, idof, id, desc)\u001b[0m\n\u001b[1;32m   1148\u001b[0m                         \u001b[0mself\u001b[0m\u001b[0;34m.\u001b[0m\u001b[0m_d\u001b[0m \u001b[0;34m=\u001b[0m \u001b[0mvalue\u001b[0m\u001b[0;34m.\u001b[0m\u001b[0m_d\u001b[0m\u001b[0;34m\u001b[0m\u001b[0;34m\u001b[0m\u001b[0m\n\u001b[1;32m   1149\u001b[0m                 \u001b[0;32melse\u001b[0m\u001b[0;34m:\u001b[0m\u001b[0;34m\u001b[0m\u001b[0;34m\u001b[0m\u001b[0m\n\u001b[0;32m-> 1150\u001b[0;31m                         \u001b[0;32mraise\u001b[0m \u001b[0mException\u001b[0m\u001b[0;34m(\u001b[0m\u001b[0;34m\"Unknown arguments\"\u001b[0m\u001b[0;34m)\u001b[0m\u001b[0;34m\u001b[0m\u001b[0;34m\u001b[0m\u001b[0m\n\u001b[0m\u001b[1;32m   1151\u001b[0m \u001b[0;34m\u001b[0m\u001b[0m\n\u001b[1;32m   1152\u001b[0m         \u001b[0;34m@\u001b[0m\u001b[0mstaticmethod\u001b[0m\u001b[0;34m\u001b[0m\u001b[0;34m\u001b[0m\u001b[0m\n",
      "\u001b[0;31mException\u001b[0m: Unknown arguments"
     ]
    }
   ],
   "source": [
    "_fromnetobject(get_value(UncBudget.ComputeFlatUncBudget(a.net_object)))"
   ]
  },
  {
   "cell_type": "code",
   "execution_count": null,
   "metadata": {},
   "outputs": [],
   "source": []
  },
  {
   "cell_type": "code",
   "execution_count": 54,
   "metadata": {},
   "outputs": [
    {
     "data": {
      "text/plain": [
       "20.085536923187668 ± 8.034214769275067"
      ]
     },
     "execution_count": 54,
     "metadata": {},
     "output_type": "execute_result"
    }
   ],
   "source": [
    "_fromnetobject(a.net_object.Exp())"
   ]
  },
  {
   "cell_type": "code",
   "execution_count": 98,
   "metadata": {},
   "outputs": [],
   "source": [
    "tree = UncBudget.ComputeTreeUncBudget(c.net_object)"
   ]
  },
  {
   "cell_type": "code",
   "execution_count": 82,
   "metadata": {},
   "outputs": [],
   "source": [
    "flat = UncBudget.ComputeFlatUncBudget(c.net_object)"
   ]
  },
  {
   "cell_type": "code",
   "execution_count": null,
   "metadata": {},
   "outputs": [],
   "source": []
  },
  {
   "cell_type": "code",
   "execution_count": 71,
   "metadata": {},
   "outputs": [
    {
     "ename": "TypeError",
     "evalue": "'FlatUncBudgetItem[]' object is not callable",
     "output_type": "error",
     "traceback": [
      "\u001b[0;31m---------------------------------------------------------------------------\u001b[0m",
      "\u001b[0;31mTypeError\u001b[0m                                 Traceback (most recent call last)",
      "\u001b[0;32m<ipython-input-71-ce8004e03594>\u001b[0m in \u001b[0;36m<module>\u001b[0;34m\u001b[0m\n\u001b[0;32m----> 1\u001b[0;31m \u001b[0m_fromnetobject\u001b[0m\u001b[0;34m(\u001b[0m\u001b[0mflat\u001b[0m\u001b[0;34m(\u001b[0m\u001b[0;34m)\u001b[0m\u001b[0;34m)\u001b[0m\u001b[0;34m\u001b[0m\u001b[0;34m\u001b[0m\u001b[0m\n\u001b[0m",
      "\u001b[0;31mTypeError\u001b[0m: 'FlatUncBudgetItem[]' object is not callable"
     ]
    }
   ],
   "source": [
    "_fromnetobject(flat)"
   ]
  },
  {
   "cell_type": "code",
   "execution_count": 95,
   "metadata": {},
   "outputs": [
    {
     "data": {
      "text/plain": [
       "'a'"
      ]
     },
     "execution_count": 95,
     "metadata": {},
     "output_type": "execute_result"
    }
   ],
   "source": [
    "flat[0].get_Description()"
   ]
  },
  {
   "cell_type": "code",
   "execution_count": 99,
   "metadata": {},
   "outputs": [
    {
     "data": {
      "text/plain": [
       "2"
      ]
     },
     "execution_count": 99,
     "metadata": {},
     "output_type": "execute_result"
    }
   ],
   "source": [
    "len(tree)"
   ]
  },
  {
   "cell_type": "code",
   "execution_count": 100,
   "metadata": {},
   "outputs": [
    {
     "data": {
      "text/plain": [
       "<Metas.UncLib.LinProp.TreeUncBudgetItem[] object at 0x7fb6a1f22a80>"
      ]
     },
     "execution_count": 100,
     "metadata": {},
     "output_type": "execute_result"
    }
   ],
   "source": [
    "tree"
   ]
  },
  {
   "cell_type": "code",
   "execution_count": 101,
   "metadata": {},
   "outputs": [
    {
     "data": {
      "text/plain": [
       "<Metas.UncLib.LinProp.TreeUncBudgetItem object at 0x7fb6a1f44d00>"
      ]
     },
     "execution_count": 101,
     "metadata": {},
     "output_type": "execute_result"
    }
   ],
   "source": [
    "tree[0]"
   ]
  },
  {
   "cell_type": "code",
   "execution_count": 102,
   "metadata": {},
   "outputs": [
    {
     "data": {
      "text/plain": [
       "['Description',\n",
       " 'Distribution',\n",
       " 'Dof',\n",
       " 'Equals',\n",
       " 'Finalize',\n",
       " 'GetHashCode',\n",
       " 'GetType',\n",
       " 'ID',\n",
       " 'InputStdUnc',\n",
       " 'InputValue',\n",
       " 'MemberwiseClone',\n",
       " 'Overloads',\n",
       " 'ReferenceEquals',\n",
       " 'Sensitivity',\n",
       " 'ShortDescription',\n",
       " 'SubItems',\n",
       " 'ToString',\n",
       " 'UncComponent',\n",
       " 'UncPercentage',\n",
       " '__class__',\n",
       " '__delattr__',\n",
       " '__dir__',\n",
       " '__doc__',\n",
       " '__eq__',\n",
       " '__format__',\n",
       " '__ge__',\n",
       " '__getattribute__',\n",
       " '__gt__',\n",
       " '__hash__',\n",
       " '__init__',\n",
       " '__init_subclass__',\n",
       " '__le__',\n",
       " '__lt__',\n",
       " '__module__',\n",
       " '__ne__',\n",
       " '__new__',\n",
       " '__overloads__',\n",
       " '__reduce__',\n",
       " '__reduce_ex__',\n",
       " '__repr__',\n",
       " '__setattr__',\n",
       " '__sizeof__',\n",
       " '__str__',\n",
       " '__subclasshook__',\n",
       " 'get_Description',\n",
       " 'get_Distribution',\n",
       " 'get_Dof',\n",
       " 'get_ID',\n",
       " 'get_InputStdUnc',\n",
       " 'get_InputValue',\n",
       " 'get_Sensitivity',\n",
       " 'get_ShortDescription',\n",
       " 'get_SubItems',\n",
       " 'get_UncComponent',\n",
       " 'get_UncPercentage',\n",
       " 'set_Description',\n",
       " 'set_Distribution',\n",
       " 'set_Dof',\n",
       " 'set_ID',\n",
       " 'set_InputStdUnc',\n",
       " 'set_InputValue',\n",
       " 'set_Sensitivity',\n",
       " 'set_ShortDescription',\n",
       " 'set_SubItems',\n",
       " 'set_UncComponent',\n",
       " 'set_UncPercentage']"
      ]
     },
     "execution_count": 102,
     "metadata": {},
     "output_type": "execute_result"
    }
   ],
   "source": [
    "dir(tree[0])"
   ]
  },
  {
   "cell_type": "code",
   "execution_count": null,
   "metadata": {},
   "outputs": [],
   "source": []
  },
  {
   "cell_type": "code",
   "execution_count": 104,
   "metadata": {},
   "outputs": [
    {
     "data": {
      "text/plain": [
       "True"
      ]
     },
     "execution_count": 104,
     "metadata": {},
     "output_type": "execute_result"
    }
   ],
   "source": [
    "isinstance(tree[0], TreeUncBudgetItem)"
   ]
  },
  {
   "cell_type": "code",
   "execution_count": null,
   "metadata": {},
   "outputs": [],
   "source": []
  },
  {
   "cell_type": "code",
   "execution_count": 91,
   "metadata": {},
   "outputs": [
    {
     "data": {
      "text/plain": [
       "['Description',\n",
       " 'Distribution',\n",
       " 'Dof',\n",
       " 'Equals',\n",
       " 'Finalize',\n",
       " 'GetHashCode',\n",
       " 'GetType',\n",
       " 'ID',\n",
       " 'InputStdUnc',\n",
       " 'InputValue',\n",
       " 'MemberwiseClone',\n",
       " 'Overloads',\n",
       " 'ReferenceEquals',\n",
       " 'Sensitivity',\n",
       " 'ToString',\n",
       " 'UncComponent',\n",
       " 'UncPercentage',\n",
       " '__class__',\n",
       " '__delattr__',\n",
       " '__dir__',\n",
       " '__doc__',\n",
       " '__eq__',\n",
       " '__format__',\n",
       " '__ge__',\n",
       " '__getattribute__',\n",
       " '__gt__',\n",
       " '__hash__',\n",
       " '__init__',\n",
       " '__init_subclass__',\n",
       " '__le__',\n",
       " '__lt__',\n",
       " '__module__',\n",
       " '__ne__',\n",
       " '__new__',\n",
       " '__overloads__',\n",
       " '__reduce__',\n",
       " '__reduce_ex__',\n",
       " '__repr__',\n",
       " '__setattr__',\n",
       " '__sizeof__',\n",
       " '__str__',\n",
       " '__subclasshook__',\n",
       " 'get_Description',\n",
       " 'get_Distribution',\n",
       " 'get_Dof',\n",
       " 'get_ID',\n",
       " 'get_InputStdUnc',\n",
       " 'get_InputValue',\n",
       " 'get_Sensitivity',\n",
       " 'get_UncComponent',\n",
       " 'get_UncPercentage',\n",
       " 'set_Description',\n",
       " 'set_Distribution',\n",
       " 'set_Dof',\n",
       " 'set_ID',\n",
       " 'set_InputStdUnc',\n",
       " 'set_InputValue',\n",
       " 'set_Sensitivity',\n",
       " 'set_UncComponent',\n",
       " 'set_UncPercentage']"
      ]
     },
     "execution_count": 91,
     "metadata": {},
     "output_type": "execute_result"
    }
   ],
   "source": [
    "dir(flat[0])"
   ]
  },
  {
   "cell_type": "code",
   "execution_count": 83,
   "metadata": {},
   "outputs": [
    {
     "data": {
      "text/plain": [
       "2"
      ]
     },
     "execution_count": 83,
     "metadata": {},
     "output_type": "execute_result"
    }
   ],
   "source": [
    "flat.get_Length()"
   ]
  },
  {
   "cell_type": "code",
   "execution_count": 89,
   "metadata": {},
   "outputs": [
    {
     "data": {
      "text/plain": [
       "<Metas.UncLib.LinProp.FlatUncBudgetItem object at 0x7fb6a1f05d80>"
      ]
     },
     "execution_count": 89,
     "metadata": {},
     "output_type": "execute_result"
    }
   ],
   "source": [
    "flat.GetValue(0)"
   ]
  },
  {
   "cell_type": "code",
   "execution_count": 69,
   "metadata": {},
   "outputs": [
    {
     "data": {
      "text/plain": [
       "['Address',\n",
       " 'AsReadOnly',\n",
       " 'BinarySearch',\n",
       " 'Clear',\n",
       " 'Clone',\n",
       " 'ConstrainedCopy',\n",
       " 'ConvertAll',\n",
       " 'Copy',\n",
       " 'CopyTo',\n",
       " 'CreateInstance',\n",
       " 'Empty',\n",
       " 'Equals',\n",
       " 'Exists',\n",
       " 'Fill',\n",
       " 'Finalize',\n",
       " 'Find',\n",
       " 'FindAll',\n",
       " 'FindIndex',\n",
       " 'FindLast',\n",
       " 'FindLastIndex',\n",
       " 'ForEach',\n",
       " 'Get',\n",
       " 'GetEnumerator',\n",
       " 'GetHashCode',\n",
       " 'GetLength',\n",
       " 'GetLongLength',\n",
       " 'GetLowerBound',\n",
       " 'GetType',\n",
       " 'GetUpperBound',\n",
       " 'GetValue',\n",
       " 'IndexOf',\n",
       " 'Initialize',\n",
       " 'IsFixedSize',\n",
       " 'IsReadOnly',\n",
       " 'IsSynchronized',\n",
       " 'LastIndexOf',\n",
       " 'Length',\n",
       " 'LongLength',\n",
       " 'MemberwiseClone',\n",
       " 'Overloads',\n",
       " 'Rank',\n",
       " 'ReferenceEquals',\n",
       " 'Resize',\n",
       " 'Reverse',\n",
       " 'Set',\n",
       " 'SetValue',\n",
       " 'Sort',\n",
       " 'SyncRoot',\n",
       " 'ToString',\n",
       " 'TrueForAll',\n",
       " '__abstractmethods__',\n",
       " '__class__',\n",
       " '__contains__',\n",
       " '__delattr__',\n",
       " '__delitem__',\n",
       " '__dict__',\n",
       " '__dir__',\n",
       " '__doc__',\n",
       " '__eq__',\n",
       " '__format__',\n",
       " '__ge__',\n",
       " '__getattribute__',\n",
       " '__getitem__',\n",
       " '__gt__',\n",
       " '__hash__',\n",
       " '__iadd__',\n",
       " '__init__',\n",
       " '__init_subclass__',\n",
       " '__iter__',\n",
       " '__le__',\n",
       " '__len__',\n",
       " '__lt__',\n",
       " '__module__',\n",
       " '__ne__',\n",
       " '__new__',\n",
       " '__overloads__',\n",
       " '__reduce__',\n",
       " '__reduce_ex__',\n",
       " '__repr__',\n",
       " '__reversed__',\n",
       " '__setattr__',\n",
       " '__setitem__',\n",
       " '__sizeof__',\n",
       " '__slots__',\n",
       " '__str__',\n",
       " '__subclasshook__',\n",
       " '__weakref__',\n",
       " '_abc_impl',\n",
       " 'append',\n",
       " 'clear',\n",
       " 'count',\n",
       " 'extend',\n",
       " 'get_IsFixedSize',\n",
       " 'get_IsReadOnly',\n",
       " 'get_IsSynchronized',\n",
       " 'get_Length',\n",
       " 'get_LongLength',\n",
       " 'get_Rank',\n",
       " 'get_SyncRoot',\n",
       " 'index',\n",
       " 'insert',\n",
       " 'pop',\n",
       " 'remove',\n",
       " 'reverse']"
      ]
     },
     "execution_count": 69,
     "metadata": {},
     "output_type": "execute_result"
    }
   ],
   "source": [
    "dir(flat)"
   ]
  },
  {
   "cell_type": "code",
   "execution_count": 59,
   "metadata": {},
   "outputs": [
    {
     "ename": "AttributeError",
     "evalue": "'TreeUncBudgetItem[]' object has no attribute 'size'",
     "output_type": "error",
     "traceback": [
      "\u001b[0;31m---------------------------------------------------------------------------\u001b[0m",
      "\u001b[0;31mAttributeError\u001b[0m                            Traceback (most recent call last)",
      "\u001b[0;32m<ipython-input-59-c9d92b78c9b3>\u001b[0m in \u001b[0;36m<module>\u001b[0;34m\u001b[0m\n\u001b[0;32m----> 1\u001b[0;31m \u001b[0m_fromnetnarray\u001b[0m\u001b[0;34m(\u001b[0m\u001b[0mtree\u001b[0m\u001b[0;34m)\u001b[0m\u001b[0;34m\u001b[0m\u001b[0;34m\u001b[0m\u001b[0m\n\u001b[0m",
      "\u001b[0;32m~/opt/anaconda3/lib/python3.8/site-packages/metas_unclib/metas_unclib.py\u001b[0m in \u001b[0;36m_fromnetnarray\u001b[0;34m(a)\u001b[0m\n\u001b[1;32m    169\u001b[0m \u001b[0;34m\u001b[0m\u001b[0m\n\u001b[1;32m    170\u001b[0m \u001b[0;32mdef\u001b[0m \u001b[0m_fromnetnarray\u001b[0m\u001b[0;34m(\u001b[0m\u001b[0ma\u001b[0m\u001b[0;34m)\u001b[0m\u001b[0;34m:\u001b[0m\u001b[0;34m\u001b[0m\u001b[0;34m\u001b[0m\u001b[0m\n\u001b[0;32m--> 171\u001b[0;31m         \u001b[0ms\u001b[0m \u001b[0;34m=\u001b[0m \u001b[0ma\u001b[0m\u001b[0;34m.\u001b[0m\u001b[0msize\u001b[0m\u001b[0;34m\u001b[0m\u001b[0;34m\u001b[0m\u001b[0m\n\u001b[0m\u001b[1;32m    172\u001b[0m         \u001b[0ms2\u001b[0m \u001b[0;34m=\u001b[0m \u001b[0;34m[\u001b[0m\u001b[0msi\u001b[0m \u001b[0;32mfor\u001b[0m \u001b[0msi\u001b[0m \u001b[0;32min\u001b[0m \u001b[0ms\u001b[0m\u001b[0;34m]\u001b[0m\u001b[0;34m\u001b[0m\u001b[0;34m\u001b[0m\u001b[0m\n\u001b[1;32m    173\u001b[0m         \u001b[0md\u001b[0m \u001b[0;34m=\u001b[0m \u001b[0ma\u001b[0m\u001b[0;34m.\u001b[0m\u001b[0mdata\u001b[0m\u001b[0;34m\u001b[0m\u001b[0;34m\u001b[0m\u001b[0m\n",
      "\u001b[0;31mAttributeError\u001b[0m: 'TreeUncBudgetItem[]' object has no attribute 'size'"
     ]
    }
   ],
   "source": [
    "_fromnetnarray(tree)"
   ]
  },
  {
   "cell_type": "code",
   "execution_count": null,
   "metadata": {},
   "outputs": [],
   "source": []
  },
  {
   "cell_type": "code",
   "execution_count": null,
   "metadata": {},
   "outputs": [],
   "source": []
  },
  {
   "cell_type": "code",
   "execution_count": 66,
   "metadata": {},
   "outputs": [
    {
     "data": {
      "text/plain": [
       "['Address',\n",
       " 'AsReadOnly',\n",
       " 'BinarySearch',\n",
       " 'Clear',\n",
       " 'Clone',\n",
       " 'ConstrainedCopy',\n",
       " 'ConvertAll',\n",
       " 'Copy',\n",
       " 'CopyTo',\n",
       " 'CreateInstance',\n",
       " 'Empty',\n",
       " 'Equals',\n",
       " 'Exists',\n",
       " 'Fill',\n",
       " 'Finalize',\n",
       " 'Find',\n",
       " 'FindAll',\n",
       " 'FindIndex',\n",
       " 'FindLast',\n",
       " 'FindLastIndex',\n",
       " 'ForEach',\n",
       " 'Get',\n",
       " 'GetEnumerator',\n",
       " 'GetHashCode',\n",
       " 'GetLength',\n",
       " 'GetLongLength',\n",
       " 'GetLowerBound',\n",
       " 'GetType',\n",
       " 'GetUpperBound',\n",
       " 'GetValue',\n",
       " 'IndexOf',\n",
       " 'Initialize',\n",
       " 'IsFixedSize',\n",
       " 'IsReadOnly',\n",
       " 'IsSynchronized',\n",
       " 'LastIndexOf',\n",
       " 'Length',\n",
       " 'LongLength',\n",
       " 'MemberwiseClone',\n",
       " 'Overloads',\n",
       " 'Rank',\n",
       " 'ReferenceEquals',\n",
       " 'Resize',\n",
       " 'Reverse',\n",
       " 'Set',\n",
       " 'SetValue',\n",
       " 'Sort',\n",
       " 'SyncRoot',\n",
       " 'ToString',\n",
       " 'TrueForAll',\n",
       " '__abstractmethods__',\n",
       " '__class__',\n",
       " '__contains__',\n",
       " '__delattr__',\n",
       " '__delitem__',\n",
       " '__dict__',\n",
       " '__dir__',\n",
       " '__doc__',\n",
       " '__eq__',\n",
       " '__format__',\n",
       " '__ge__',\n",
       " '__getattribute__',\n",
       " '__getitem__',\n",
       " '__gt__',\n",
       " '__hash__',\n",
       " '__iadd__',\n",
       " '__init__',\n",
       " '__init_subclass__',\n",
       " '__iter__',\n",
       " '__le__',\n",
       " '__len__',\n",
       " '__lt__',\n",
       " '__module__',\n",
       " '__ne__',\n",
       " '__new__',\n",
       " '__overloads__',\n",
       " '__reduce__',\n",
       " '__reduce_ex__',\n",
       " '__repr__',\n",
       " '__reversed__',\n",
       " '__setattr__',\n",
       " '__setitem__',\n",
       " '__sizeof__',\n",
       " '__slots__',\n",
       " '__str__',\n",
       " '__subclasshook__',\n",
       " '__weakref__',\n",
       " '_abc_impl',\n",
       " 'append',\n",
       " 'clear',\n",
       " 'count',\n",
       " 'extend',\n",
       " 'get_IsFixedSize',\n",
       " 'get_IsReadOnly',\n",
       " 'get_IsSynchronized',\n",
       " 'get_Length',\n",
       " 'get_LongLength',\n",
       " 'get_Rank',\n",
       " 'get_SyncRoot',\n",
       " 'index',\n",
       " 'insert',\n",
       " 'pop',\n",
       " 'remove',\n",
       " 'reverse']"
      ]
     },
     "execution_count": 66,
     "metadata": {},
     "output_type": "execute_result"
    }
   ],
   "source": [
    "dir(tree)"
   ]
  },
  {
   "cell_type": "code",
   "execution_count": 45,
   "metadata": {},
   "outputs": [
    {
     "data": {
      "text/plain": [
       "['Description',\n",
       " 'Distribution',\n",
       " 'Dof',\n",
       " 'Equals',\n",
       " 'Finalize',\n",
       " 'GetHashCode',\n",
       " 'GetType',\n",
       " 'ID',\n",
       " 'InputStdUnc',\n",
       " 'InputValue',\n",
       " 'MemberwiseClone',\n",
       " 'Overloads',\n",
       " 'ReferenceEquals',\n",
       " 'Sensitivity',\n",
       " 'ShortDescription',\n",
       " 'SubItems',\n",
       " 'ToString',\n",
       " 'UncComponent',\n",
       " 'UncPercentage',\n",
       " '__class__',\n",
       " '__delattr__',\n",
       " '__dir__',\n",
       " '__doc__',\n",
       " '__eq__',\n",
       " '__format__',\n",
       " '__ge__',\n",
       " '__getattribute__',\n",
       " '__gt__',\n",
       " '__hash__',\n",
       " '__init__',\n",
       " '__init_subclass__',\n",
       " '__le__',\n",
       " '__lt__',\n",
       " '__module__',\n",
       " '__ne__',\n",
       " '__new__',\n",
       " '__overloads__',\n",
       " '__reduce__',\n",
       " '__reduce_ex__',\n",
       " '__repr__',\n",
       " '__setattr__',\n",
       " '__sizeof__',\n",
       " '__str__',\n",
       " '__subclasshook__',\n",
       " 'get_Description',\n",
       " 'get_Distribution',\n",
       " 'get_Dof',\n",
       " 'get_ID',\n",
       " 'get_InputStdUnc',\n",
       " 'get_InputValue',\n",
       " 'get_Sensitivity',\n",
       " 'get_ShortDescription',\n",
       " 'get_SubItems',\n",
       " 'get_UncComponent',\n",
       " 'get_UncPercentage',\n",
       " 'set_Description',\n",
       " 'set_Distribution',\n",
       " 'set_Dof',\n",
       " 'set_ID',\n",
       " 'set_InputStdUnc',\n",
       " 'set_InputValue',\n",
       " 'set_Sensitivity',\n",
       " 'set_ShortDescription',\n",
       " 'set_SubItems',\n",
       " 'set_UncComponent',\n",
       " 'set_UncPercentage']"
      ]
     },
     "execution_count": 45,
     "metadata": {},
     "output_type": "execute_result"
    }
   ],
   "source": [
    "dir(TreeUncBudgetItem)"
   ]
  },
  {
   "cell_type": "code",
   "execution_count": 43,
   "metadata": {},
   "outputs": [
    {
     "data": {
      "text/plain": [
       "['Description',\n",
       " 'Distribution',\n",
       " 'Dof',\n",
       " 'Equals',\n",
       " 'Finalize',\n",
       " 'GetHashCode',\n",
       " 'GetType',\n",
       " 'ID',\n",
       " 'InputStdUnc',\n",
       " 'InputValue',\n",
       " 'MemberwiseClone',\n",
       " 'Overloads',\n",
       " 'ReferenceEquals',\n",
       " 'Sensitivity',\n",
       " 'ToString',\n",
       " 'UncComponent',\n",
       " 'UncPercentage',\n",
       " '__class__',\n",
       " '__delattr__',\n",
       " '__dir__',\n",
       " '__doc__',\n",
       " '__eq__',\n",
       " '__format__',\n",
       " '__ge__',\n",
       " '__getattribute__',\n",
       " '__gt__',\n",
       " '__hash__',\n",
       " '__init__',\n",
       " '__init_subclass__',\n",
       " '__le__',\n",
       " '__lt__',\n",
       " '__module__',\n",
       " '__ne__',\n",
       " '__new__',\n",
       " '__overloads__',\n",
       " '__reduce__',\n",
       " '__reduce_ex__',\n",
       " '__repr__',\n",
       " '__setattr__',\n",
       " '__sizeof__',\n",
       " '__str__',\n",
       " '__subclasshook__',\n",
       " 'get_Description',\n",
       " 'get_Distribution',\n",
       " 'get_Dof',\n",
       " 'get_ID',\n",
       " 'get_InputStdUnc',\n",
       " 'get_InputValue',\n",
       " 'get_Sensitivity',\n",
       " 'get_UncComponent',\n",
       " 'get_UncPercentage',\n",
       " 'set_Description',\n",
       " 'set_Distribution',\n",
       " 'set_Dof',\n",
       " 'set_ID',\n",
       " 'set_InputStdUnc',\n",
       " 'set_InputValue',\n",
       " 'set_Sensitivity',\n",
       " 'set_UncComponent',\n",
       " 'set_UncPercentage']"
      ]
     },
     "execution_count": 43,
     "metadata": {},
     "output_type": "execute_result"
    }
   ],
   "source": [
    "dir(FlatUncBudgetItem)"
   ]
  },
  {
   "cell_type": "code",
   "execution_count": 41,
   "metadata": {},
   "outputs": [
    {
     "data": {
      "text/plain": [
       "['__call__',\n",
       " '__class__',\n",
       " '__delattr__',\n",
       " '__dir__',\n",
       " '__doc__',\n",
       " '__eq__',\n",
       " '__format__',\n",
       " '__ge__',\n",
       " '__getattribute__',\n",
       " '__getitem__',\n",
       " '__gt__',\n",
       " '__hash__',\n",
       " '__init__',\n",
       " '__init_subclass__',\n",
       " '__le__',\n",
       " '__lt__',\n",
       " '__module__',\n",
       " '__ne__',\n",
       " '__new__',\n",
       " '__reduce__',\n",
       " '__reduce_ex__',\n",
       " '__repr__',\n",
       " '__setattr__',\n",
       " '__sizeof__',\n",
       " '__str__',\n",
       " '__subclasshook__']"
      ]
     },
     "execution_count": 41,
     "metadata": {},
     "output_type": "execute_result"
    }
   ],
   "source": [
    "dir(UncBudget.ComputeFlatUncBudget)"
   ]
  },
  {
   "cell_type": "code",
   "execution_count": 39,
   "metadata": {},
   "outputs": [
    {
     "data": {
      "text/plain": [
       "['BuildCorrBaseInputs',\n",
       " 'BuildCorrBaseInputsFromRandomChoices',\n",
       " 'BuildCorrBaseInputsFromSamples',\n",
       " 'ComplexUncArray',\n",
       " 'ComplexUncArrayFromRandomChoices',\n",
       " 'ComplexUncArrayFromSamples',\n",
       " 'ComplexUncNArray',\n",
       " 'ComplexUncNArrayFromRandomChoices',\n",
       " 'ComplexUncNArrayFromSamples',\n",
       " 'ComplexUncNumber',\n",
       " 'ComplexUncNumberFromRandomChoices',\n",
       " 'ComplexUncNumberFromSamples',\n",
       " 'CoverageFactor',\n",
       " 'Equals',\n",
       " 'Finalize',\n",
       " 'GetCorrelation',\n",
       " 'GetCovariance',\n",
       " 'GetCoverageInterval',\n",
       " 'GetFcnValue',\n",
       " 'GetHashCode',\n",
       " 'GetIDof',\n",
       " 'GetJacobi',\n",
       " 'GetJacobi2',\n",
       " 'GetMoment',\n",
       " 'GetStdUnc',\n",
       " 'GetType',\n",
       " 'GetUncComponent',\n",
       " 'GetValue',\n",
       " 'MemberwiseClone',\n",
       " 'Overloads',\n",
       " 'RealUncArray',\n",
       " 'RealUncArrayFromRandomChoices',\n",
       " 'RealUncArrayFromSamples',\n",
       " 'RealUncNArray',\n",
       " 'RealUncNArrayFromRandomChoices',\n",
       " 'RealUncNArrayFromSamples',\n",
       " 'RealUncNumber',\n",
       " 'RealUncNumberFromDistribution',\n",
       " 'RealUncNumberFromInputDistribution',\n",
       " 'RealUncNumberFromRandomChoices',\n",
       " 'RealUncNumberFromSamples',\n",
       " 'ReferenceEquals',\n",
       " 'ToString',\n",
       " '__class__',\n",
       " '__delattr__',\n",
       " '__dir__',\n",
       " '__doc__',\n",
       " '__eq__',\n",
       " '__format__',\n",
       " '__ge__',\n",
       " '__getattribute__',\n",
       " '__gt__',\n",
       " '__hash__',\n",
       " '__init__',\n",
       " '__init_subclass__',\n",
       " '__le__',\n",
       " '__lt__',\n",
       " '__module__',\n",
       " '__ne__',\n",
       " '__new__',\n",
       " '__overloads__',\n",
       " '__reduce__',\n",
       " '__reduce_ex__',\n",
       " '__repr__',\n",
       " '__setattr__',\n",
       " '__sizeof__',\n",
       " '__str__',\n",
       " '__subclasshook__']"
      ]
     },
     "execution_count": 39,
     "metadata": {},
     "output_type": "execute_result"
    }
   ],
   "source": [
    "dir(_UncHelper)"
   ]
  },
  {
   "cell_type": "code",
   "execution_count": null,
   "metadata": {},
   "outputs": [],
   "source": []
  },
  {
   "cell_type": "code",
   "execution_count": 26,
   "metadata": {},
   "outputs": [
    {
     "ename": "AttributeError",
     "evalue": "'list' object has no attribute 'UncComponent'",
     "output_type": "error",
     "traceback": [
      "\u001b[0;31m---------------------------------------------------------------------------\u001b[0m",
      "\u001b[0;31mAttributeError\u001b[0m                            Traceback (most recent call last)",
      "\u001b[0;32m<ipython-input-26-245e6a04560f>\u001b[0m in \u001b[0;36m<module>\u001b[0;34m\u001b[0m\n\u001b[0;32m----> 1\u001b[0;31m \u001b[0mdir\u001b[0m\u001b[0;34m(\u001b[0m\u001b[0mUncBudget\u001b[0m\u001b[0;34m.\u001b[0m\u001b[0mComputeTreeUncBudget\u001b[0m\u001b[0;34m(\u001b[0m\u001b[0ma\u001b[0m\u001b[0;34m.\u001b[0m\u001b[0mnet_object\u001b[0m\u001b[0;34m)\u001b[0m\u001b[0;34m)\u001b[0m\u001b[0;34m.\u001b[0m\u001b[0mUncComponent\u001b[0m\u001b[0;34m\u001b[0m\u001b[0;34m\u001b[0m\u001b[0m\n\u001b[0m",
      "\u001b[0;31mAttributeError\u001b[0m: 'list' object has no attribute 'UncComponent'"
     ]
    }
   ],
   "source": [
    "dir(UncBudget.ComputeTreeUncBudget(a.net_object)).UncComponent"
   ]
  },
  {
   "cell_type": "code",
   "execution_count": 17,
   "metadata": {},
   "outputs": [
    {
     "ename": "AttributeError",
     "evalue": "'UncList' object has no attribute 'size'",
     "output_type": "error",
     "traceback": [
      "\u001b[0;31m---------------------------------------------------------------------------\u001b[0m",
      "\u001b[0;31mAttributeError\u001b[0m                            Traceback (most recent call last)",
      "\u001b[0;32m<ipython-input-17-d1bae6db672a>\u001b[0m in \u001b[0;36m<module>\u001b[0;34m\u001b[0m\n\u001b[0;32m----> 1\u001b[0;31m \u001b[0m_fromnetobject\u001b[0m\u001b[0;34m(\u001b[0m\u001b[0m_asunclist\u001b[0m\u001b[0;34m(\u001b[0m\u001b[0ma\u001b[0m\u001b[0;34m)\u001b[0m\u001b[0;34m)\u001b[0m\u001b[0;34m\u001b[0m\u001b[0;34m\u001b[0m\u001b[0m\n\u001b[0m",
      "\u001b[0;32m~/opt/anaconda3/lib/python3.8/site-packages/metas_unclib/metas_unclib.py\u001b[0m in \u001b[0;36m_fromnetobject\u001b[0;34m(a)\u001b[0m\n\u001b[1;32m    146\u001b[0m                 \u001b[0mb\u001b[0m \u001b[0;34m=\u001b[0m \u001b[0mfloat\u001b[0m\u001b[0;34m(\u001b[0m\u001b[0ma\u001b[0m\u001b[0;34m.\u001b[0m\u001b[0mValue\u001b[0m\u001b[0;34m)\u001b[0m\u001b[0;34m\u001b[0m\u001b[0;34m\u001b[0m\u001b[0m\n\u001b[1;32m    147\u001b[0m         \u001b[0;32melse\u001b[0m\u001b[0;34m:\u001b[0m\u001b[0;34m\u001b[0m\u001b[0;34m\u001b[0m\u001b[0m\n\u001b[0;32m--> 148\u001b[0;31m                 \u001b[0mb\u001b[0m \u001b[0;34m=\u001b[0m \u001b[0m_fromnetnarray\u001b[0m\u001b[0;34m(\u001b[0m\u001b[0ma\u001b[0m\u001b[0;34m)\u001b[0m\u001b[0;34m\u001b[0m\u001b[0;34m\u001b[0m\u001b[0m\n\u001b[0m\u001b[1;32m    149\u001b[0m         \u001b[0;32mreturn\u001b[0m \u001b[0mb\u001b[0m\u001b[0;34m\u001b[0m\u001b[0;34m\u001b[0m\u001b[0m\n\u001b[1;32m    150\u001b[0m \u001b[0;34m\u001b[0m\u001b[0m\n",
      "\u001b[0;32m~/opt/anaconda3/lib/python3.8/site-packages/metas_unclib/metas_unclib.py\u001b[0m in \u001b[0;36m_fromnetnarray\u001b[0;34m(a)\u001b[0m\n\u001b[1;32m    169\u001b[0m \u001b[0;34m\u001b[0m\u001b[0m\n\u001b[1;32m    170\u001b[0m \u001b[0;32mdef\u001b[0m \u001b[0m_fromnetnarray\u001b[0m\u001b[0;34m(\u001b[0m\u001b[0ma\u001b[0m\u001b[0;34m)\u001b[0m\u001b[0;34m:\u001b[0m\u001b[0;34m\u001b[0m\u001b[0;34m\u001b[0m\u001b[0m\n\u001b[0;32m--> 171\u001b[0;31m         \u001b[0ms\u001b[0m \u001b[0;34m=\u001b[0m \u001b[0ma\u001b[0m\u001b[0;34m.\u001b[0m\u001b[0msize\u001b[0m\u001b[0;34m\u001b[0m\u001b[0;34m\u001b[0m\u001b[0m\n\u001b[0m\u001b[1;32m    172\u001b[0m         \u001b[0ms2\u001b[0m \u001b[0;34m=\u001b[0m \u001b[0;34m[\u001b[0m\u001b[0msi\u001b[0m \u001b[0;32mfor\u001b[0m \u001b[0msi\u001b[0m \u001b[0;32min\u001b[0m \u001b[0ms\u001b[0m\u001b[0;34m]\u001b[0m\u001b[0;34m\u001b[0m\u001b[0;34m\u001b[0m\u001b[0m\n\u001b[1;32m    173\u001b[0m         \u001b[0md\u001b[0m \u001b[0;34m=\u001b[0m \u001b[0ma\u001b[0m\u001b[0;34m.\u001b[0m\u001b[0mdata\u001b[0m\u001b[0;34m\u001b[0m\u001b[0;34m\u001b[0m\u001b[0m\n",
      "\u001b[0;31mAttributeError\u001b[0m: 'UncList' object has no attribute 'size'"
     ]
    }
   ],
   "source": [
    "_fromnetobject(_asunclist(a))"
   ]
  },
  {
   "cell_type": "code",
   "execution_count": null,
   "metadata": {},
   "outputs": [],
   "source": []
  },
  {
   "cell_type": "code",
   "execution_count": 1,
   "metadata": {},
   "outputs": [],
   "source": [
    "import importlib"
   ]
  },
  {
   "cell_type": "code",
   "execution_count": 8,
   "metadata": {},
   "outputs": [
    {
     "data": {
      "text/plain": [
       "<module 'metas_unclib' from '/Users/Janjo/opt/anaconda3/lib/python3.8/site-packages/metas_unclib/__init__.py'>"
      ]
     },
     "execution_count": 8,
     "metadata": {},
     "output_type": "execute_result"
    }
   ],
   "source": [
    "importlib.import_module(\"metas_unclib\")"
   ]
  },
  {
   "cell_type": "code",
   "execution_count": 9,
   "metadata": {},
   "outputs": [
    {
     "ename": "ImportError",
     "evalue": "cannot import name '_fromnetobject' from 'metas_unclib' (/Users/Janjo/opt/anaconda3/lib/python3.8/site-packages/metas_unclib/__init__.py)",
     "output_type": "error",
     "traceback": [
      "\u001b[0;31m---------------------------------------------------------------------------\u001b[0m",
      "\u001b[0;31mImportError\u001b[0m                               Traceback (most recent call last)",
      "\u001b[0;32m<ipython-input-9-fa95535a8d46>\u001b[0m in \u001b[0;36m<module>\u001b[0;34m\u001b[0m\n\u001b[0;32m----> 1\u001b[0;31m \u001b[0;32mfrom\u001b[0m \u001b[0mmetas_unclib\u001b[0m \u001b[0;32mimport\u001b[0m \u001b[0m_fromnetobject\u001b[0m\u001b[0;34m\u001b[0m\u001b[0;34m\u001b[0m\u001b[0m\n\u001b[0m",
      "\u001b[0;31mImportError\u001b[0m: cannot import name '_fromnetobject' from 'metas_unclib' (/Users/Janjo/opt/anaconda3/lib/python3.8/site-packages/metas_unclib/__init__.py)"
     ]
    }
   ],
   "source": [
    "from metas_unclib import _fromnetobject"
   ]
  },
  {
   "cell_type": "code",
   "execution_count": 5,
   "metadata": {},
   "outputs": [
    {
     "ename": "NameError",
     "evalue": "name 'metas_unclib' is not defined",
     "output_type": "error",
     "traceback": [
      "\u001b[0;31m---------------------------------------------------------------------------\u001b[0m",
      "\u001b[0;31mNameError\u001b[0m                                 Traceback (most recent call last)",
      "\u001b[0;32m<ipython-input-5-854f54ba2b95>\u001b[0m in \u001b[0;36m<module>\u001b[0;34m\u001b[0m\n\u001b[0;32m----> 1\u001b[0;31m \u001b[0mmetas_unclib\u001b[0m\u001b[0;34m.\u001b[0m\u001b[0m_fromnetobject\u001b[0m\u001b[0;34m\u001b[0m\u001b[0;34m\u001b[0m\u001b[0m\n\u001b[0m",
      "\u001b[0;31mNameError\u001b[0m: name 'metas_unclib' is not defined"
     ]
    }
   ],
   "source": [
    "metas_unclib._fromnetobject"
   ]
  },
  {
   "cell_type": "code",
   "execution_count": 3,
   "metadata": {},
   "outputs": [
    {
     "name": "stdout",
     "output_type": "stream",
     "text": [
      "Object `mu._fromnetobject` not found.\n"
     ]
    }
   ],
   "source": [
    "mu._fromnetobject?"
   ]
  },
  {
   "cell_type": "code",
   "execution_count": 6,
   "metadata": {},
   "outputs": [],
   "source": [
    "from Metas.UncLib.LinProp import UncBudget"
   ]
  },
  {
   "cell_type": "code",
   "execution_count": 10,
   "metadata": {},
   "outputs": [],
   "source": [
    "tree_unc_budget = UncBudget.ComputeTreeUncBudget(mu.ufloat(3.0, 0.3, desc='a').net_object)"
   ]
  },
  {
   "cell_type": "code",
   "execution_count": 11,
   "metadata": {},
   "outputs": [
    {
     "ename": "AttributeError",
     "evalue": "module 'metas_unclib' has no attribute '_fromnetobject'",
     "output_type": "error",
     "traceback": [
      "\u001b[0;31m---------------------------------------------------------------------------\u001b[0m",
      "\u001b[0;31mAttributeError\u001b[0m                            Traceback (most recent call last)",
      "\u001b[0;32m<ipython-input-11-cdd3fbbad646>\u001b[0m in \u001b[0;36m<module>\u001b[0;34m\u001b[0m\n\u001b[0;32m----> 1\u001b[0;31m \u001b[0mmu\u001b[0m\u001b[0;34m.\u001b[0m\u001b[0m_fromnetobject\u001b[0m\u001b[0;34m(\u001b[0m\u001b[0mtree_unc_budget\u001b[0m\u001b[0;34m)\u001b[0m\u001b[0;34m\u001b[0m\u001b[0;34m\u001b[0m\u001b[0m\n\u001b[0m",
      "\u001b[0;31mAttributeError\u001b[0m: module 'metas_unclib' has no attribute '_fromnetobject'"
     ]
    }
   ],
   "source": [
    "mu._fromnetobject(tree_unc_budget)"
   ]
  },
  {
   "cell_type": "code",
   "execution_count": 8,
   "metadata": {},
   "outputs": [
    {
     "ename": "AttributeError",
     "evalue": "'TreeUncBudgetItem[]' object has no attribute 'Distribution'",
     "output_type": "error",
     "traceback": [
      "\u001b[0;31m---------------------------------------------------------------------------\u001b[0m",
      "\u001b[0;31mAttributeError\u001b[0m                            Traceback (most recent call last)",
      "\u001b[0;32m<ipython-input-8-c4a29afefc26>\u001b[0m in \u001b[0;36m<module>\u001b[0;34m\u001b[0m\n\u001b[0;32m----> 1\u001b[0;31m \u001b[0mtree_unc_budget\u001b[0m\u001b[0;34m.\u001b[0m\u001b[0mDistribution\u001b[0m\u001b[0;34m\u001b[0m\u001b[0;34m\u001b[0m\u001b[0m\n\u001b[0m",
      "\u001b[0;31mAttributeError\u001b[0m: 'TreeUncBudgetItem[]' object has no attribute 'Distribution'"
     ]
    }
   ],
   "source": [
    "tree_unc_budget.Distribution"
   ]
  },
  {
   "cell_type": "code",
   "execution_count": 5,
   "metadata": {},
   "outputs": [
    {
     "data": {
      "text/plain": [
       "<Metas.UncLib.LinProp.TreeUncBudgetItem[] object at 0x7fecd1f37d80>"
      ]
     },
     "execution_count": 5,
     "metadata": {},
     "output_type": "execute_result"
    }
   ],
   "source": [
    "tree_unc_budget"
   ]
  },
  {
   "cell_type": "code",
   "execution_count": 6,
   "metadata": {},
   "outputs": [
    {
     "data": {
      "text/plain": [
       "['Address',\n",
       " 'AsReadOnly',\n",
       " 'BinarySearch',\n",
       " 'Clear',\n",
       " 'Clone',\n",
       " 'ConstrainedCopy',\n",
       " 'ConvertAll',\n",
       " 'Copy',\n",
       " 'CopyTo',\n",
       " 'CreateInstance',\n",
       " 'Empty',\n",
       " 'Equals',\n",
       " 'Exists',\n",
       " 'Fill',\n",
       " 'Finalize',\n",
       " 'Find',\n",
       " 'FindAll',\n",
       " 'FindIndex',\n",
       " 'FindLast',\n",
       " 'FindLastIndex',\n",
       " 'ForEach',\n",
       " 'Get',\n",
       " 'GetEnumerator',\n",
       " 'GetHashCode',\n",
       " 'GetLength',\n",
       " 'GetLongLength',\n",
       " 'GetLowerBound',\n",
       " 'GetType',\n",
       " 'GetUpperBound',\n",
       " 'GetValue',\n",
       " 'IndexOf',\n",
       " 'Initialize',\n",
       " 'IsFixedSize',\n",
       " 'IsReadOnly',\n",
       " 'IsSynchronized',\n",
       " 'LastIndexOf',\n",
       " 'Length',\n",
       " 'LongLength',\n",
       " 'MemberwiseClone',\n",
       " 'Overloads',\n",
       " 'Rank',\n",
       " 'ReferenceEquals',\n",
       " 'Resize',\n",
       " 'Reverse',\n",
       " 'Set',\n",
       " 'SetValue',\n",
       " 'Sort',\n",
       " 'SyncRoot',\n",
       " 'ToString',\n",
       " 'TrueForAll',\n",
       " '__abstractmethods__',\n",
       " '__class__',\n",
       " '__contains__',\n",
       " '__delattr__',\n",
       " '__delitem__',\n",
       " '__dict__',\n",
       " '__dir__',\n",
       " '__doc__',\n",
       " '__eq__',\n",
       " '__format__',\n",
       " '__ge__',\n",
       " '__getattribute__',\n",
       " '__getitem__',\n",
       " '__gt__',\n",
       " '__hash__',\n",
       " '__iadd__',\n",
       " '__init__',\n",
       " '__init_subclass__',\n",
       " '__iter__',\n",
       " '__le__',\n",
       " '__len__',\n",
       " '__lt__',\n",
       " '__module__',\n",
       " '__ne__',\n",
       " '__new__',\n",
       " '__overloads__',\n",
       " '__reduce__',\n",
       " '__reduce_ex__',\n",
       " '__repr__',\n",
       " '__reversed__',\n",
       " '__setattr__',\n",
       " '__setitem__',\n",
       " '__sizeof__',\n",
       " '__slots__',\n",
       " '__str__',\n",
       " '__subclasshook__',\n",
       " '__weakref__',\n",
       " '_abc_impl',\n",
       " 'append',\n",
       " 'clear',\n",
       " 'count',\n",
       " 'extend',\n",
       " 'get_IsFixedSize',\n",
       " 'get_IsReadOnly',\n",
       " 'get_IsSynchronized',\n",
       " 'get_Length',\n",
       " 'get_LongLength',\n",
       " 'get_Rank',\n",
       " 'get_SyncRoot',\n",
       " 'index',\n",
       " 'insert',\n",
       " 'pop',\n",
       " 'remove',\n",
       " 'reverse']"
      ]
     },
     "execution_count": 6,
     "metadata": {},
     "output_type": "execute_result"
    }
   ],
   "source": [
    "dir(tree_unc_budget)"
   ]
  },
  {
   "cell_type": "code",
   "execution_count": 9,
   "metadata": {},
   "outputs": [
    {
     "name": "stdout",
     "output_type": "stream",
     "text": [
      "Object `_fromnetobject` not found.\n"
     ]
    }
   ],
   "source": [
    "_fromnetobject?"
   ]
  },
  {
   "cell_type": "code",
   "execution_count": null,
   "metadata": {},
   "outputs": [],
   "source": []
  }
 ],
 "metadata": {
  "kernelspec": {
   "display_name": "Python 3",
   "language": "python",
   "name": "python3"
  },
  "language_info": {
   "codemirror_mode": {
    "name": "ipython",
    "version": 3
   },
   "file_extension": ".py",
   "mimetype": "text/x-python",
   "name": "python",
   "nbconvert_exporter": "python",
   "pygments_lexer": "ipython3",
   "version": "3.8.5"
  }
 },
 "nbformat": 4,
 "nbformat_minor": 4
}
