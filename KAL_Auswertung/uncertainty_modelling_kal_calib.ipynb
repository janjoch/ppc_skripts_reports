{
 "cells": [
  {
   "cell_type": "code",
   "execution_count": 6,
   "metadata": {},
   "outputs": [],
   "source": [
    "import math"
   ]
  },
  {
   "cell_type": "code",
   "execution_count": 1,
   "metadata": {},
   "outputs": [],
   "source": [
    "from metas_unclib import *"
   ]
  },
  {
   "cell_type": "markdown",
   "metadata": {},
   "source": [
    "$c_L^{sp}$: spezifische Wärmekapaziät \n",
    "\n",
    "$C$: Wärmekapazität Wasser\n",
    "\n",
    "$m$: Masse Lösungsmittel\n",
    "\n",
    "$U, I$: Spannung, Strom Heizung\n",
    "\n",
    "$b$: Steigung aus T-t-Diagramm"
   ]
  },
  {
   "cell_type": "code",
   "execution_count": 2,
   "metadata": {},
   "outputs": [],
   "source": [
    "def tolerance(value, a):\n",
    "    \"\"\"\n",
    "    producer tolerance of value +/- a\n",
    "    \n",
    "    returns UniformDistribution(value - a, value + a)\n",
    "    \"\"\"\n",
    "    return UniformDistribution(value - a, value + a)"
   ]
  },
  {
   "cell_type": "markdown",
   "metadata": {},
   "source": [
    "### $C_{Dewar}$"
   ]
  },
  {
   "cell_type": "markdown",
   "metadata": {},
   "source": [
    "$$C_{Dewar} = C_{Sys,kal} - C_W = {U I \\over b} - m_W c_W^{sp}$$"
   ]
  },
  {
   "cell_type": "code",
   "execution_count": 9,
   "metadata": {},
   "outputs": [
    {
     "data": {
      "text/plain": [
       "0.1 ± 5.773502691896423e-05"
      ]
     },
     "execution_count": 9,
     "metadata": {},
     "output_type": "execute_result"
    }
   ],
   "source": [
    "ref_V = ufloatfromdistribution(\n",
    "  tolerance(0.1, 0.0001),  # L\n",
    "  desc='reference volume / L'\n",
    ")\n",
    "ref_V"
   ]
  },
  {
   "cell_type": "code",
   "execution_count": 11,
   "metadata": {},
   "outputs": [
    {
     "data": {
      "text/plain": [
       "0.09982 ± 5.76311038705101e-05"
      ]
     },
     "execution_count": 11,
     "metadata": {},
     "output_type": "execute_result"
    }
   ],
   "source": [
    "# rho water\n",
    "water_rho = ufloat(0.9982, desc=\"water rho / kg/L\")\n",
    "water_m = water_rho * ref_V\n",
    "water_m"
   ]
  },
  {
   "cell_type": "code",
   "execution_count": 12,
   "metadata": {},
   "outputs": [],
   "source": [
    "water_c_sp = ufloat(4182, desc=\"water specific heat capacity / J/K/kg\")"
   ]
  },
  {
   "cell_type": "code",
   "execution_count": 13,
   "metadata": {},
   "outputs": [
    {
     "data": {
      "text/plain": [
       "16.1 ± 0.0547121254080546"
      ]
     },
     "execution_count": 13,
     "metadata": {},
     "output_type": "execute_result"
    }
   ],
   "source": [
    "U = ufloatfromdistribution(\n",
    "  tolerance(10.0, 0.05),  # V\n",
    "  desc='voltage / V'\n",
    ")\n",
    "I = ufloatfromdistribution(\n",
    "  tolerance(1.61, 0.005),  # V\n",
    "  desc='current / A'\n",
    ")\n",
    "P = U * I\n",
    "P"
   ]
  },
  {
   "cell_type": "code",
   "execution_count": 19,
   "metadata": {},
   "outputs": [
    {
     "data": {
      "text/plain": [
       "0.027723269999999998 ± 0.00018962430800640334"
      ]
     },
     "execution_count": 19,
     "metadata": {},
     "output_type": "execute_result"
    }
   ],
   "source": [
    "water_slope = ufloatfromsamples(\n",
    "    (0.027875, 0.02771894, 0.02757587),\n",
    "    desc='slope of water calibration / K/s'\n",
    ")\n",
    "water_slope"
   ]
  },
  {
   "cell_type": "code",
   "execution_count": 20,
   "metadata": {},
   "outputs": [
    {
     "data": {
      "text/plain": [
       "163.2923336505831 ± 4.441980282611897"
      ]
     },
     "execution_count": 20,
     "metadata": {},
     "output_type": "execute_result"
    }
   ],
   "source": [
    "dewar_C = U * I / water_slope - water_m * water_c_sp\n",
    "dewar_C"
   ]
  },
  {
   "cell_type": "markdown",
   "metadata": {},
   "source": [
    "### $c_L^{sp}$"
   ]
  },
  {
   "cell_type": "markdown",
   "metadata": {},
   "source": [
    "$$c_L^{sp} = {C_L \\over m} = {C_{Sys,L} - C_{Dewar} \\over m} = {U I \\over b m} - {C_{Dewar} \\over m}$$"
   ]
  },
  {
   "cell_type": "code",
   "execution_count": 25,
   "metadata": {},
   "outputs": [
    {
     "data": {
      "text/plain": [
       "0.0398696981455289 ± 2.96817283935158e-05"
      ]
     },
     "execution_count": 25,
     "metadata": {},
     "output_type": "execute_result"
    }
   ],
   "source": [
    "sol_slope = ufloat(\n",
    "    0.0398696981455289,\n",
    "    2.96817283935158E-05,\n",
    "    desc=\"slope of solution / K/s\"\n",
    ")\n",
    "sol_slope"
   ]
  },
  {
   "cell_type": "code",
   "execution_count": 30,
   "metadata": {},
   "outputs": [],
   "source": [
    "# since the scale is very accurate in comparison to the other uncertainties, the mass measurement is very accurate\n",
    "sol_m_perV = ufloat(\n",
    "  0.08236242,  # kg\n",
    "  desc='solution mass / kg'\n",
    ")"
   ]
  },
  {
   "cell_type": "code",
   "execution_count": 31,
   "metadata": {},
   "outputs": [
    {
     "data": {
      "text/plain": [
       "240.5231138913868 ± 4.035878115463858"
      ]
     },
     "execution_count": 31,
     "metadata": {},
     "output_type": "execute_result"
    }
   ],
   "source": [
    "U * I / sol_slope - dewar_C"
   ]
  },
  {
   "cell_type": "code",
   "execution_count": 32,
   "metadata": {},
   "outputs": [
    {
     "data": {
      "text/plain": [
       "2920.301684814346 ± 49.00145133501247"
      ]
     },
     "execution_count": 32,
     "metadata": {},
     "output_type": "execute_result"
    }
   ],
   "source": [
    "sol_c_sp = (U * I / sol_slope - dewar_C) / sol_m_perV\n",
    "sol_c_sp"
   ]
  },
  {
   "cell_type": "code",
   "execution_count": null,
   "metadata": {},
   "outputs": [],
   "source": []
  }
 ],
 "metadata": {
  "kernelspec": {
   "display_name": "Python 3",
   "language": "python",
   "name": "python3"
  },
  "language_info": {
   "codemirror_mode": {
    "name": "ipython",
    "version": 3
   },
   "file_extension": ".py",
   "mimetype": "text/x-python",
   "name": "python",
   "nbconvert_exporter": "python",
   "pygments_lexer": "ipython3",
   "version": "3.8.5"
  }
 },
 "nbformat": 4,
 "nbformat_minor": 4
}
